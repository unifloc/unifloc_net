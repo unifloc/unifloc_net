{
 "cells": [
  {
   "cell_type": "code",
   "execution_count": 1,
   "metadata": {},
   "outputs": [
    {
     "name": "stdout",
     "output_type": "stream",
     "text": [
      "C:\\Users\\Sevrn\\Desktop\\C#\\unifloc_net\\test\n",
      "import excel with unifloc vba done. version 7.25\n"
     ]
    }
   ],
   "source": [
    "# подготовимся к импорту API который находится в родительской папке относительно этой тетрадки\n",
    "import sys\n",
    "import os\n",
    "path = os.getcwd()\n",
    "print(path)\n",
    "sys.path.insert(0, path)\n",
    "# импортируем api\n",
    "import unifloc_vba_python_api.python_api as python_api \n",
    "# готовим объект с доступом к надстройке. При этом надстройка откроется и запустится excel \n",
    "UniflocVBA = python_api.API(\"UniflocVBA_7.xlam\")\n",
    "print(\"import excel with unifloc vba done. version \" + UniflocVBA.unf_version())"
   ]
  },
  {
   "cell_type": "code",
   "execution_count": 2,
   "metadata": {},
   "outputs": [],
   "source": [
    "import sys\n",
    "import clr\n",
    "import DLLs\n",
    "from ctypes import *\n",
    "import os\n",
    "path = os.path.abspath('..')\n",
    "cur_path = path + '\\\\u7_excel\\\\bin\\\\Debug'\n",
    "\n",
    "sys.path.append(f'{cur_path}')\n",
    "clr.AddReference('alglibnet2')\n",
    "clr.AddReference('UnfClassLibrary')\n",
    "clr.AddReference('u7_excel')\n",
    "\n",
    "import UnfClassLibrary\n",
    "import u7_excel"
   ]
  },
  {
   "cell_type": "code",
   "execution_count": 3,
   "metadata": {},
   "outputs": [
    {
     "name": "stdout",
     "output_type": "stream",
     "text": [
      "{\"gamma_gas\":0.8,\"gamma_oil\":0.86,\"gamma_wat\":1.1,\"rsb_m3m3\":80.0,\"rp_m3m3\":80.0,\"pb_atma\":125.0,\"t_res_C\":100.0,\"bob_m3m3\":1.2,\"muob_cP\":1.0,\"ksep_fr\":-1.0,\"p_ksep_atma\":-1.0,\"t_ksep_C\":-1.0}\n",
      "0.005001406420466044\n",
      "0.10237096727906649\n"
     ]
    }
   ],
   "source": [
    "pvt_str = u7_excel.u7_Excel_function_servise.PVT_encode_string(0.8, 0.86, 1.1, 80, 80, 125, 100, 1.2, 1)\n",
    "test_choke = u7_excel.u7_Excel_functions_MF.MF_calibr_choke_fast(qliq_sm3day=50, fw_perc=20, d_choke_mm=15, p_in_atma=60, p_out_atma=50, str_PVT=pvt_str)\n",
    "bg = u7_excel.u7PVT.PVT_bg_m3m3(260, 80, 0.8, 0.86, 1.1, 80, 80, 125, 100, 1.2, 1)\n",
    "print(pvt_str)\n",
    "print(bg[0])\n",
    "print(test_choke[0])"
   ]
  },
  {
   "cell_type": "markdown",
   "metadata": {},
   "source": [
    "Импорт необходимых модулей"
   ]
  },
  {
   "cell_type": "code",
   "execution_count": 4,
   "metadata": {},
   "outputs": [],
   "source": [
    "import numpy as np\n",
    "import matplotlib as mpl\n",
    "from matplotlib import pylab as plt"
   ]
  },
  {
   "cell_type": "markdown",
   "metadata": {},
   "source": [
    "Расчет базовых PVT свойств нефти"
   ]
  },
  {
   "cell_type": "code",
   "execution_count": 28,
   "metadata": {},
   "outputs": [
    {
     "name": "stdout",
     "output_type": "stream",
     "text": [
      "[ 10  30  50  70  90 110 130 150 170 190 210 230 250 270 290 310 330 350\n",
      " 370 390 410 430 450]\n",
      "[ 5 15 25 35 45 55 65 75 85 95]\n"
     ]
    }
   ],
   "source": [
    "p_0 = 10\n",
    "p_n = 460\n",
    "dp = 20 \n",
    "p_atm = np.arange(p_0, p_n, dp) #\n",
    "t_C = 80 #\n",
    "gamma_gas_ = 0.8 # удельная плотность газа, по воздуху;\n",
    "gamma_oil_ = 0.86 # удельная плотность нефти, по воде;\n",
    "gamma_wat_ = 1.1 # удельная плотность воды, по воде;\n",
    "Rsb_ = 80 # газосодержание при давлении насыщения, м3/м3;\n",
    "Rp_  = 80 # замерной газовый фактор, м3/м3;\n",
    "Pb_ = 125 # давление насыщения при температуре пласта, атм;\n",
    "Tres_ = 100 # пластовая температура, С;\n",
    "Bob_ = 1.2 # объемный коэффициент нефти, м3/м3;\n",
    "muob_ = 1 # вязкость нефти при давлении насыщения, сП;\n",
    "PVTcorr = 0; # Выбор набора корреляций для расчета;\n",
    "# Зададим параметры сепарации для учета влияния на свойства флюида\n",
    "Ksep_ = 0.5 # коэффициент сепарации дополнительынй для сепарации заданной в потоке;\n",
    "Psep_ = 50 # давление при которой была сепарация, атм;\n",
    "Tsep = 80 # температура при которой была сепарция, С;\n",
    "gas_only = False\n",
    "bg_list, bg_dll_list = [], []\n",
    "for p in p_atm:\n",
    "    b_gas_m3m3 = UniflocVBA.PVT_bg_m3m3(p,t_C,gamma_gas_,gamma_oil_,gamma_wat_,Rsb_,Rp_,Pb_,Tres_,Bob_,muob_,PVTcorr,Ksep_,Psep_,Tsep)\n",
    "    bg_list.append(b_gas_m3m3)\n",
    "    bg = u7_excel.u7PVT.PVT_bg_m3m3(p,t_C,gamma_gas_,gamma_oil_,gamma_wat_,Rsb_,Rp_,Pb_,Tres_,Bob_,muob_,PVTcorr,Ksep_,Psep_,Tsep)\n",
    "    bg_dll_list.append(bg[0])\n",
    "\n",
    "    \n",
    "q_0 = 5\n",
    "q_n = 100\n",
    "dq = 10 \n",
    "q_arr = np.arange(q_0, q_n, dq) #\n",
    "pvt_str = u7_excel.u7_Excel_function_servise.PVT_encode_string(0.8, 0.86, 1.1, 80, 80, 125, 100, 1.2, 1,PVTcorr,Ksep_,Psep_,Tsep, gas_only)\n",
    "str = UniflocVBA.PVT_encode_string(0.8, 0.86, 1.1, 80, 80, 125, 100, 1.2, 1,PVTcorr,Ksep_,Psep_,Tsep, gas_only)\n",
    "choke_list, choke_dll_list = [], []\n",
    "for q in q_arr:\n",
    "    choke = UniflocVBA.MF_calibr_choke_fast(qliq_sm3day=q, fw_perc=20, d_choke_mm=15, p_in_atma=60, p_out_atma=50, str_PVT=str)\n",
    "    choke_list.append(choke[0][0])\n",
    "    test_choke = u7_excel.u7_Excel_functions_MF.MF_calibr_choke_fast(qliq_sm3day=q, fw_perc=20, d_choke_mm=15, p_in_atma=60, p_out_atma=50, str_PVT=pvt_str)\n",
    "    choke_dll_list.append(test_choke[0])"
   ]
  },
  {
   "cell_type": "markdown",
   "metadata": {},
   "source": [
    "Объемные коэффициенты газа"
   ]
  },
  {
   "cell_type": "code",
   "execution_count": 21,
   "metadata": {},
   "outputs": [
    {
     "data": {
      "image/png": "[encoded data removed]",
      "text/plain": [
       "<Figure size 432x288 with 1 Axes>"
      ]
     },
     "metadata": {
      "needs_background": "light"
     },
     "output_type": "display_data"
    }
   ],
   "source": [
    "ys = [bg_list, bg_dll_list]\n",
    "for i in range(2):\n",
    "    plt.grid(True)\n",
    "    plt.title('Объемный коэффициент газа', color='black', family='fantasy')\n",
    "    plt.ylabel('bg, м3/м3', color='black', family='fantasy')\n",
    "    plt.xlabel('Давление, атм', color='black', family='fantasy')\n",
    "    plt.plot(p_atm, ys[i], linewidth=3)\n",
    "plt.legend(('VBA','VB.net')) \n",
    "plt.show()\n"
   ]
  },
  {
   "cell_type": "markdown",
   "metadata": {},
   "source": [
    "расчет корректирующего фактора (множителя) модели штуцера"
   ]
  },
  {
   "cell_type": "code",
   "execution_count": 30,
   "metadata": {},
   "outputs": [
    {
     "name": "stdout",
     "output_type": "stream",
     "text": [
      "[0.00887444436907516, 0.026623333107225478, 0.0443722218453758, 0.06212111058352612, 0.07986999932167643, 0.09761888805982676, 0.11536777679797708, 0.1331166655361274, 0.15086555427427772, 0.16861444301242803]\n",
      "[0.00887444436907546, 0.026623333107226397, 0.04437222184537732, 0.06212111058352826, 0.07986999932167914, 0.09761888805983006, 0.115367776797981, 0.1331166655361319, 0.15086555427428291, 0.16861444301243378]\n"
     ]
    }
   ],
   "source": [
    "print(choke_list)\n",
    "print(choke_dll_list)"
   ]
  },
  {
   "cell_type": "code",
   "execution_count": 31,
   "metadata": {},
   "outputs": [
    {
     "data": {
      "image/png": "[encoded data removed]",
      "text/plain": [
       "<Figure size 432x288 with 1 Axes>"
      ]
     },
     "metadata": {
      "needs_background": "light"
     },
     "output_type": "display_data"
    }
   ],
   "source": [
    "ys = [choke_list, choke_dll_list]\n",
    "for i in range(2):\n",
    "    plt.grid(True)\n",
    "    plt.title('Корректирующий фактор', color='black', family='fantasy')\n",
    "    plt.ylabel(' ', color='black', family='fantasy')\n",
    "    plt.xlabel('qliq_sm3day', color='black', family='fantasy')\n",
    "    plt.plot(q_arr, ys[i], linewidth=3)\n",
    "plt.legend(('VBA','VB.net')) \n",
    "plt.show()"
   ]
  }
 ],
 "metadata": {
  "kernelspec": {
   "display_name": "Python 3",
   "language": "python",
   "name": "python3"
  },
  "language_info": {
   "codemirror_mode": {
    "name": "ipython",
    "version": 3
   },
   "file_extension": ".py",
   "mimetype": "text/x-python",
   "name": "python",
   "nbconvert_exporter": "python",
   "pygments_lexer": "ipython3",
   "version": "3.8.3"
  }
 },
 "nbformat": 4,
 "nbformat_minor": 4
}
