{
 "cells": [
  {
   "cell_type": "code",
   "execution_count": 1,
   "metadata": {},
   "outputs": [
    {
     "name": "stdout",
     "output_type": "stream",
     "text": [
      "C:\\Users\\Sevrn\\Desktop\\C#\\unifloc_net\\test\n",
      "import excel with unifloc vba done. version 7.25\n"
     ]
    }
   ],
   "source": [
    "# подготовимся к импорту API который находится в родительской папке относительно этой тетрадки\n",
    "import sys\n",
    "import os\n",
    "path = os.getcwd()\n",
    "print(path)\n",
    "sys.path.insert(0, path)\n",
    "# импортируем api\n",
    "import unifloc_vba_python_api.python_api as python_api \n",
    "# готовим объект с доступом к надстройке. При этом надстройка откроется и запустится excel \n",
    "UniflocVBA = python_api.API(\"UniflocVBA_7.xlam\")\n",
    "print(\"import excel with unifloc vba done. version \" + UniflocVBA.unf_version())"
   ]
  },
  {
   "cell_type": "code",
   "execution_count": 1,
   "metadata": {},
   "outputs": [
    {
     "data": {
      "text/plain": [
       "<module 'u7_excel'>"
      ]
     },
     "execution_count": 1,
     "metadata": {},
     "output_type": "execute_result"
    }
   ],
   "source": [
    "import sys\n",
    "import clr\n",
    "import DLLs\n",
    "from ctypes import *\n",
    "import os\n",
    "path = os.path.abspath('..')\n",
    "cur_path = path + '\\\\u7_excel\\\\bin\\\\Debug'\n",
    "\n",
    "sys.path.append(f'{cur_path}')\n",
    "clr.AddReference('alglibnet2')\n",
    "clr.AddReference('UnfClassLibrary')\n",
    "clr.AddReference('u7_excel')\n",
    "\n",
    "import UnfClassLibrary\n",
    "import u7_excel\n",
    "u7_excel"
   ]
  },
  {
   "cell_type": "code",
   "execution_count": 3,
   "metadata": {},
   "outputs": [],
   "source": [
    "import numpy as np\n",
    "import matplotlib as mpl\n",
    "from matplotlib import pylab as plt"
   ]
  },
  {
   "cell_type": "code",
   "execution_count": 2,
   "metadata": {},
   "outputs": [
    {
     "name": "stdout",
     "output_type": "stream",
     "text": [
      "Help on ModuleObject:\n",
      "\n",
      "u7_excel\n",
      "    Namespace containing types from the following assemblies:\n",
      "    \n",
      "    - u7_excel, Version=1.0.0.0, Culture=neutral, PublicKeyToken=null\n",
      "\n"
     ]
    }
   ],
   "source": [
    "help(u7_excel)"
   ]
  },
  {
   "cell_type": "code",
   "execution_count": 4,
   "metadata": {},
   "outputs": [
    {
     "name": "stdout",
     "output_type": "stream",
     "text": [
      "ЭЦН ID - 738\n",
      "ЭЦН ID vb.net - 738\n",
      "ЭЦН имя - ЭЦН5-15\n",
      "ЭЦН имя vb.net - ЭЦН5-15\n",
      "ЭЦН Qmax - 33.0\n",
      "ЭЦН Qmax vb.net - 33.0\n",
      "Ступени - 304\n",
      "Ступени  vb.net - 304\n"
     ]
    }
   ],
   "source": [
    "## Физико-химические свойства флюида PVT\n",
    "gamma_gas_ = 0.8 # удельная плотность газа, по воздуху;\n",
    "gamma_oil_ = 0.9 # удельная плотность нефти, по воде;\n",
    "gamma_wat_ = 1 # удельная плотность воды, по воде;\n",
    "Rsb_ = 80 # газосодержание при давлении насыщения, м3/м3;\n",
    "Rp_  = 80 # замерной газовый фактор, м3/м3;\n",
    "Pb_ = 120 # давление насыщения при температуре пласта, атм;\n",
    "Tres_ = 100 # пластовая температура, С;\n",
    "Bob_ = 1.2 # объемный коэффициент нефти, м3/м3;\n",
    "muob_ = 1 # вязкость нефти при давлении насыщения, сП;\n",
    "## Параметры потока флюида\n",
    "Q_ = 3 # дебит жидкости на поверхности, м3/сут;\n",
    "fw_ = 10 # объемная обводненность, %;\n",
    "## Данные по ЭЦН\n",
    "Q_ESP_ = 8 # номинальный дебит, м3/сут;\n",
    "Head_ESP_ = 2000 # номинальный напор системы УЭЦН, м;\n",
    "Freq_ = 50 # частота вращения ЭЦН, Гц;\n",
    "PumpID_ = UniflocVBA.ESP_id_by_rate(Q_ESP_) # идентификатор типового насоса;\n",
    "print(\"ЭЦН ID - \"+ str(PumpID_))\n",
    "PumpID_dll = u7_excel.u7_Excel_functions_ESP.ESP_id_by_rate(Q_ESP_) # идентификатор типового насоса;\n",
    "print(\"ЭЦН ID vb.net - \"+ str(PumpID_dll))\n",
    "ESP_name = UniflocVBA.ESP_name(PumpID_) #  название ЭЦН по номеру;\n",
    "print(\"ЭЦН имя - \"+ ESP_name)\n",
    "ESP_name_dll = u7_excel.u7_Excel_functions_ESP.ESP_name(PumpID_dll) #  название ЭЦН по номеру;\n",
    "print(\"ЭЦН имя vb.net - \"+ ESP_name_dll)\n",
    "Qmax_ = UniflocVBA.ESP_rate_max_sm3day(Freq_, PumpID_) # максимальный дебит ЭЦН для заданной частоты при номинаьной кривой РНХ;\n",
    "print(\"ЭЦН Qmax - \"+ str(Qmax_))\n",
    "Qmax_dll = u7_excel.u7_Excel_functions_ESP.ESP_rate_max_sm3day(Freq_, PumpID_dll) # максимальный дебит ЭЦН для заданной частоты при номинаьной кривой РНХ;\n",
    "print(\"ЭЦН Qmax vb.net - \"+ str(Qmax_dll))\n",
    "NumStage_ = round(Head_ESP_/UniflocVBA.ESP_head_m(Q_ESP_, 1, pump_id=PumpID_)) # количество ступеней;\n",
    "print(\"Ступени - \"+ str(NumStage_))\n",
    "NumStage_dll = round(Head_ESP_/u7_excel.u7_Excel_functions_ESP.ESP_head_m(Q_ESP_, 1, pump_id=PumpID_dll)) # количество ступеней;\n",
    "print(\"Ступени  vb.net - \"+ str(NumStage_dll))\n",
    "KsepGasSep_ = 80 # коэффициент сепарации газосепаратора УЭЦН;\n",
    "PKsep = 80 # давление сепарации, атм;\n",
    "TKsep = 80 # температура сепарации, С;\n",
    "mu = 1 # вязкость жидкости, сП;\n",
    "## Настройка графика\n",
    "N_ = 20\n",
    "## Данные по ЭЦН\n",
    "Pintake_ = 45 # давление на приеме насоса, амт;\n",
    "Tintake_ = 80 # температура на примеме насоса, С;\n",
    "Pdis_ = 150 # давление на выкиде насоса, амт;\n",
    "Tdis_ = 80 # температура на выкиде насоса, С;\n",
    "gas_degr_type_ = 1 # тип насоса по работе с газом:\n",
    "# 0 - нет коррекции;\n",
    "# 1 - стандартный ЭЦН (предел 25%);\n",
    "# 2 - ЭЦЕН с газостабилизирующим модулем (предел 50%)\n",
    "# и т.д. см. мануал;\n",
    "PVTcorr = 0 # номер набора корреляций (0 - Standing и т.д. см. мануал)\n",
    "gas_only = False\n",
    "PVT_str_ = UniflocVBA.PVT_encode_string(gamma_gas_, gamma_oil_, gamma_wat_, Rsb_, Rp_, Pb_, Tres_, Bob_, muob_, PVTcorr, KsepGasSep_, PKsep, TKsep, gas_only)\n",
    "pvt_str = u7_excel.u7_Excel_function_servise.PVT_encode_string(gamma_gas_, gamma_oil_, gamma_wat_, Rsb_, Rp_, Pb_, Tres_, Bob_, muob_, PVTcorr, KsepGasSep_, PKsep, TKsep, gas_only)"
   ]
  },
  {
   "cell_type": "code",
   "execution_count": 5,
   "metadata": {},
   "outputs": [],
   "source": [
    "calc_along_flow = 1 # направление расчета;\n",
    "dN = 10 # количество точек для вывода значений по ступеням;\n",
    "n_stage, p_list, t_list, gas_fraction_list, qmix_list = [], [], [], [], []\n",
    "p_atma = UniflocVBA.ESP_p_atma(Q_, fw_, Pintake_, NumStage_, Freq_, PumpID_, PVT_str_, Tintake_, Tdis_)\n",
    "n_stage_dll, p_list_dll, t_list_dll, gas_fraction_list_dll, qmix_list_dll = [], [], [], [], []\n",
    "p_atma_dll = u7_excel.u7_Excel_functions_ESP.ESP_p_atma(Q_, fw_, Pintake_, NumStage_, Freq_, PumpID_dll, pvt_str, Tintake_, Tdis_)\n",
    "\n",
    "for i in range(N_):\n",
    "    n_stage.append(p_atma[3+i][1])\n",
    "    p_list.append(p_atma[3+i][3])\n",
    "    t_list.append(p_atma[3+i][4])\n",
    "    gas_fraction_list.append(p_atma[3+i][5])\n",
    "    qmix_list.append(p_atma[3+i][6])\n",
    "    n_stage_dll.append(p_atma[3+i][1])\n",
    "    p_list_dll.append(p_atma[3+i][3])\n",
    "    t_list_dll.append(p_atma[3+i][4])\n",
    "    gas_fraction_list_dll.append(p_atma[3+i][5])\n",
    "    qmix_list_dll.append(p_atma[3+i][6])"
   ]
  },
  {
   "cell_type": "code",
   "execution_count": 15,
   "metadata": {},
   "outputs": [],
   "source": [
    "\n",
    "num_stages = 100\n",
    "freq_hz = 60\n",
    "pump_id = 750\n",
    "mu = 0.44\n",
    "Q_0 = 10\n",
    "Q_n = 230\n",
    "dQ = 10 \n",
    "Q_sm3day = np.arange(Q_0, Q_n, dQ) # дебит жидкости;\n",
    "h_esp, h_esp_dll = [], []\n",
    "for q in Q_sm3day:\n",
    "    h = UniflocVBA.ESP_head_m(q, num_stages, freq_hz, pump_id, mu)\n",
    "    h_esp.append(h)\n",
    "    h_dll = u7_excel.u7_Excel_functions_ESP.ESP_head_m(q, num_stages, freq_hz, pump_id, mu)\n",
    "    h_esp_dll.append(h_dll)\n"
   ]
  },
  {
   "cell_type": "code",
   "execution_count": 16,
   "metadata": {},
   "outputs": [
    {
     "data": {
      "image/png": "[encoded data removed]",
      "text/plain": [
       "<Figure size 432x288 with 1 Axes>"
      ]
     },
     "metadata": {
      "needs_background": "light"
     },
     "output_type": "display_data"
    }
   ],
   "source": [
    "mpl.rcParams['font.family'] = 'fantasy'\n",
    "mpl.rcParams['font.fantasy'] = 'Times New Roman'\n",
    "ys = [ h_esp, h_esp_dll]\n",
    "\n",
    "for j in range(2):\n",
    "        plt.grid(True)\n",
    "        plt.title('Давление на входе от дебита при разных жавдениях на входе', color='black', family='fantasy')\n",
    "        plt.ylabel('head_m', color='black', family='fantasy')\n",
    "        plt.xlabel('Дебит, м3/сут', color='black', family='fantasy')\n",
    "        plt.plot(Q_sm3day, ys[j], linewidth=3)\n",
    "plt.legend(('vba', 'vb.net')) \n",
    "plt.show()"
   ]
  },
  {
   "cell_type": "code",
   "execution_count": 6,
   "metadata": {},
   "outputs": [],
   "source": [
    "num_stages = 100\n",
    "freq_hz = 60\n",
    "pump_id = 750\n",
    "mu = 0.44\n",
    "Q_0 = 10\n",
    "Q_n = 230\n",
    "dQ = 10 \n",
    "Q_sm3day = np.arange(Q_0, Q_n, dQ) # дебит жидкости;\n",
    "power_esp, power_esp_dll = [], []\n",
    "for q in Q_sm3day:\n",
    "    h = UniflocVBA.ESP_power_W(q, num_stages, freq_hz, pump_id, mu)\n",
    "    power_esp.append(h)\n",
    "    h_dll = u7_excel.u7_Excel_functions_ESP.ESP_power_W(q, num_stages, freq_hz, pump_id, mu)\n",
    "    power_esp_dll.append(h_dll)"
   ]
  },
  {
   "cell_type": "code",
   "execution_count": 7,
   "metadata": {},
   "outputs": [
    {
     "data": {
      "image/png": "[encoded data removed]",
      "text/plain": [
       "<Figure size 432x288 with 1 Axes>"
      ]
     },
     "metadata": {
      "needs_background": "light"
     },
     "output_type": "display_data"
    }
   ],
   "source": [
    "mpl.rcParams['font.family'] = 'fantasy'\n",
    "mpl.rcParams['font.fantasy'] = 'Times New Roman'\n",
    "ys = [ power_esp, power_esp_dll]\n",
    "\n",
    "for j in range(2):\n",
    "        plt.grid(True)\n",
    "        plt.title('Давление на входе от дебита при разных жавдениях на входе', color='black', family='fantasy')\n",
    "        plt.ylabel('ESP_power_W', color='black', family='fantasy')\n",
    "        plt.xlabel('Дебит, м3/сут', color='black', family='fantasy')\n",
    "        plt.plot(Q_sm3day, ys[j], linewidth=3)\n",
    "plt.legend(('vba', 'vb.net')) \n",
    "plt.show()"
   ]
  },
  {
   "cell_type": "code",
   "execution_count": null,
   "metadata": {},
   "outputs": [],
   "source": []
  }
 ],
 "metadata": {
  "kernelspec": {
   "display_name": "Python 3",
   "language": "python",
   "name": "python3"
  },
  "language_info": {
   "codemirror_mode": {
    "name": "ipython",
    "version": 3
   },
   "file_extension": ".py",
   "mimetype": "text/x-python",
   "name": "python",
   "nbconvert_exporter": "python",
   "pygments_lexer": "ipython3",
   "version": "3.8.3"
  }
 },
 "nbformat": 4,
 "nbformat_minor": 4
}
