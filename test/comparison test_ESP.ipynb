{
 "cells": [
  {
   "cell_type": "code",
   "execution_count": 1,
   "metadata": {},
   "outputs": [
    {
     "name": "stdout",
     "output_type": "stream",
     "text": [
      "C:\\Users\\Sevrn\\Desktop\\C#\\unifloc_net\\test\n",
      "import excel with unifloc vba done. version 7.25\n"
     ]
    }
   ],
   "source": [
    "# подготовимся к импорту API который находится в родительской папке относительно этой тетрадки\n",
    "import sys\n",
    "import os\n",
    "path = os.getcwd()\n",
    "print(path)\n",
    "sys.path.insert(0, path)\n",
    "# импортируем api\n",
    "import unifloc_vba_python_api.python_api as python_api \n",
    "# готовим объект с доступом к надстройке. При этом надстройка откроется и запустится excel \n",
    "UniflocVBA = python_api.API(\"UniflocVBA_7.xlam\")\n",
    "print(\"import excel with unifloc vba done. version \" + UniflocVBA.unf_version())"
   ]
  },
  {
   "cell_type": "code",
   "execution_count": null,
   "metadata": {},
   "outputs": [],
   "source": []
  }
 ],
 "metadata": {
  "kernelspec": {
   "display_name": "Python 3",
   "language": "python",
   "name": "python3"
  },
  "language_info": {
   "codemirror_mode": {
    "name": "ipython",
    "version": 3
   },
   "file_extension": ".py",
   "mimetype": "text/x-python",
   "name": "python",
   "nbconvert_exporter": "python",
   "pygments_lexer": "ipython3",
   "version": "3.8.3"
  }
 },
 "nbformat": 4,
 "nbformat_minor": 4
}
