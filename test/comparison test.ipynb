{
 "cells": [
  {
   "cell_type": "code",
   "execution_count": 1,
   "metadata": {},
   "outputs": [
    {
     "name": "stdout",
     "output_type": "stream",
     "text": [
      "C:\\Users\\isaev\\Downloads\\unifloc_net-dev_3\\unifloc_net-dev_3\\test\n",
      "import excel with unifloc vba done. version 7.25\n"
     ]
    }
   ],
   "source": [
    "# подготовимся к импорту API который находится в родительской папке относительно этой тетрадки\n",
    "import sys\n",
    "import os\n",
    "path = os.getcwd()\n",
    "print(path)\n",
    "sys.path.insert(0, path)\n",
    "# импортируем api\n",
    "import unifloc_vba_python_api.python_api as python_api \n",
    "# готовим объект с доступом к надстройке. При этом надстройка откроется и запустится excel \n",
    "UniflocVBA = python_api.API(\"UniflocVBA_7.xlam\")\n",
    "print(\"import excel with unifloc vba done. version \" + UniflocVBA.unf_version())"
   ]
  },
  {
   "cell_type": "code",
   "execution_count": 2,
   "metadata": {},
   "outputs": [],
   "source": [
    "import sys\n",
    "import clr\n",
    "import DLLs\n",
    "from ctypes import *\n",
    "import os\n",
    "path = os.path.abspath('..')\n",
    "cur_path = path + '\\\\u7_excel\\\\bin\\\\Debug'\n",
    "\n",
    "sys.path.append(f'{cur_path}')\n",
    "clr.AddReference('alglibnet2')\n",
    "clr.AddReference('UnfClassLibrary')\n",
    "clr.AddReference('u7_excel')\n",
    "\n",
    "import UnfClassLibrary\n",
    "import u7_excel"
   ]
  },
  {
   "cell_type": "code",
   "execution_count": 3,
   "metadata": {},
   "outputs": [
    {
     "name": "stdout",
     "output_type": "stream",
     "text": [
      "{\"gamma_gas\":0.8,\"gamma_oil\":0.86,\"gamma_wat\":1.1,\"rsb_m3m3\":80.0,\"rp_m3m3\":80.0,\"pb_atma\":125.0,\"t_res_C\":100.0,\"bob_m3m3\":1.2,\"muob_cP\":1.0,\"ksep_fr\":-1.0,\"p_ksep_atma\":-1.0,\"t_ksep_C\":-1.0}\n",
      "0.004020487348895898\n",
      "System.Object[]\n"
     ]
    }
   ],
   "source": [
    "pvt_str = u7_excel.u7_Excel_function_servise.PVT_encode_string(0.8, 0.86, 1.1, 80, 80, 125, 100, 1.2, 1)\n",
    "test_choke = u7_excel.u7_Excel_functions_MF.MF_calibr_choke_fast(qliq_sm3day=50, fw_perc=20, d_choke_mm=15, p_in_atma=60, p_out_atma=50, str_PVT=pvt_str)\n",
    "bg = u7_excel.u7PVT.PVT_bg_m3m3(260, 80, 0.8, 0.86, 1.1, 80, 80, 125, 100, 1.2, 1)\n",
    "print(pvt_str)\n",
    "print(bg)\n",
    "print(test_choke)"
   ]
  },
  {
   "cell_type": "markdown",
   "metadata": {},
   "source": [
    "Импорт необходимых модулей"
   ]
  },
  {
   "cell_type": "code",
   "execution_count": 4,
   "metadata": {},
   "outputs": [],
   "source": [
    "import numpy as np\n",
    "import matplotlib as mpl\n",
    "from matplotlib import pylab as plt"
   ]
  },
  {
   "cell_type": "markdown",
   "metadata": {},
   "source": [
    "Расчет базовых PVT свойств нефти"
   ]
  },
  {
   "cell_type": "code",
   "execution_count": 5,
   "metadata": {},
   "outputs": [
    {
     "ename": "com_error",
     "evalue": "(-2147352567, 'Ошибка.', (0, 'Unifloc_7_25', 'Application-defined or object-defined error', 'C:\\\\Program Files\\\\Common Files\\\\Microsoft Shared\\\\VBA\\\\VBA7.1\\\\1049\\\\VbLR6.chm', 1000095, -2146788248), None)",
     "output_type": "error",
     "traceback": [
      "\u001b[1;31m---------------------------------------------------------------------------\u001b[0m",
      "\u001b[1;31mcom_error\u001b[0m                                 Traceback (most recent call last)",
      "\u001b[1;32m<ipython-input-5-bdecf186133c>\u001b[0m in \u001b[0;36m<module>\u001b[1;34m\u001b[0m\n\u001b[0;32m     28\u001b[0m \u001b[0mST_og_list_choke\u001b[0m\u001b[1;33m,\u001b[0m \u001b[0mST_wg_list_choke\u001b[0m \u001b[1;33m=\u001b[0m \u001b[1;33m[\u001b[0m\u001b[1;33m]\u001b[0m\u001b[1;33m,\u001b[0m \u001b[1;33m[\u001b[0m\u001b[1;33m]\u001b[0m\u001b[1;33m\u001b[0m\u001b[1;33m\u001b[0m\u001b[0m\n\u001b[0;32m     29\u001b[0m \u001b[1;32mfor\u001b[0m \u001b[0mp\u001b[0m \u001b[1;32min\u001b[0m \u001b[0mp_atm\u001b[0m\u001b[1;33m:\u001b[0m\u001b[1;33m\u001b[0m\u001b[1;33m\u001b[0m\u001b[0m\n\u001b[1;32m---> 30\u001b[1;33m     \u001b[0mpb\u001b[0m \u001b[1;33m=\u001b[0m \u001b[0mUniflocVBA\u001b[0m\u001b[1;33m.\u001b[0m\u001b[0mPVT_pb_atma\u001b[0m\u001b[1;33m(\u001b[0m\u001b[0mt_C\u001b[0m\u001b[1;33m,\u001b[0m\u001b[0mgamma_gas_\u001b[0m\u001b[1;33m,\u001b[0m\u001b[0mgamma_oil_\u001b[0m\u001b[1;33m,\u001b[0m\u001b[0mgamma_wat_\u001b[0m\u001b[1;33m,\u001b[0m\u001b[0mRsb_\u001b[0m\u001b[1;33m,\u001b[0m\u001b[0mRp_\u001b[0m\u001b[1;33m,\u001b[0m\u001b[0mPb_\u001b[0m\u001b[1;33m,\u001b[0m\u001b[0mTres_\u001b[0m\u001b[1;33m,\u001b[0m\u001b[0mBob_\u001b[0m\u001b[1;33m,\u001b[0m\u001b[0mmuob_\u001b[0m\u001b[1;33m,\u001b[0m\u001b[0mPVTcorr\u001b[0m\u001b[1;33m,\u001b[0m\u001b[0mKsep_\u001b[0m\u001b[1;33m,\u001b[0m\u001b[0mPsep_\u001b[0m\u001b[1;33m,\u001b[0m\u001b[0mTsep\u001b[0m\u001b[1;33m)\u001b[0m\u001b[1;33m\u001b[0m\u001b[1;33m\u001b[0m\u001b[0m\n\u001b[0m\u001b[0;32m     31\u001b[0m     \u001b[0mpb_list\u001b[0m\u001b[1;33m.\u001b[0m\u001b[0mappend\u001b[0m\u001b[1;33m(\u001b[0m\u001b[0mpb\u001b[0m\u001b[1;33m)\u001b[0m\u001b[1;33m\u001b[0m\u001b[1;33m\u001b[0m\u001b[0m\n\u001b[0;32m     32\u001b[0m     \u001b[0mz\u001b[0m \u001b[1;33m=\u001b[0m \u001b[0mUniflocVBA\u001b[0m\u001b[1;33m.\u001b[0m\u001b[0mPVT_bo_m3m3\u001b[0m\u001b[1;33m(\u001b[0m\u001b[0mp\u001b[0m\u001b[1;33m,\u001b[0m\u001b[0mt_C\u001b[0m\u001b[1;33m,\u001b[0m\u001b[0mgamma_gas_\u001b[0m\u001b[1;33m,\u001b[0m\u001b[0mgamma_oil_\u001b[0m\u001b[1;33m,\u001b[0m\u001b[0mgamma_wat_\u001b[0m\u001b[1;33m,\u001b[0m\u001b[0mRsb_\u001b[0m\u001b[1;33m,\u001b[0m\u001b[0mRp_\u001b[0m\u001b[1;33m,\u001b[0m\u001b[0mPb_\u001b[0m\u001b[1;33m,\u001b[0m\u001b[0mTres_\u001b[0m\u001b[1;33m,\u001b[0m\u001b[0mBob_\u001b[0m\u001b[1;33m,\u001b[0m\u001b[0mmuob_\u001b[0m\u001b[1;33m,\u001b[0m\u001b[0mPVTcorr\u001b[0m\u001b[1;33m,\u001b[0m\u001b[0mKsep_\u001b[0m\u001b[1;33m,\u001b[0m\u001b[0mPsep_\u001b[0m\u001b[1;33m,\u001b[0m\u001b[0mTsep\u001b[0m\u001b[1;33m)\u001b[0m\u001b[1;33m\u001b[0m\u001b[1;33m\u001b[0m\u001b[0m\n",
      "\u001b[1;32m~\\Downloads\\unifloc_net-dev_3\\unifloc_net-dev_3\\test\\unifloc_vba_python_api\\python_api.py\u001b[0m in \u001b[0;36mPVT_pb_atma\u001b[1;34m(self, t_C, gamma_gas, gamma_oil, gamma_wat, rsb_m3m3, rp_m3m3, pb_atma, t_res_C, bob_m3m3, muob_cP, PVTcorrPVT_correlation, ksep_fr, p_ksep_atma, t_ksep_C, str_PVT)\u001b[0m\n\u001b[0;32m   1146\u001b[0m \u001b[1;33m\u001b[0m\u001b[0m\n\u001b[0;32m   1147\u001b[0m         \u001b[0mself\u001b[0m\u001b[1;33m.\u001b[0m\u001b[0mf_PVT_pb_atma\u001b[0m \u001b[1;33m=\u001b[0m \u001b[0mself\u001b[0m\u001b[1;33m.\u001b[0m\u001b[0mbook\u001b[0m\u001b[1;33m.\u001b[0m\u001b[0mmacro\u001b[0m\u001b[1;33m(\u001b[0m\u001b[1;34m\"PVT_pb_atma\"\u001b[0m\u001b[1;33m)\u001b[0m\u001b[1;33m\u001b[0m\u001b[1;33m\u001b[0m\u001b[0m\n\u001b[1;32m-> 1148\u001b[1;33m         \u001b[1;32mreturn\u001b[0m \u001b[0mself\u001b[0m\u001b[1;33m.\u001b[0m\u001b[0mf_PVT_pb_atma\u001b[0m\u001b[1;33m(\u001b[0m\u001b[0mt_C\u001b[0m\u001b[1;33m,\u001b[0m\u001b[0mgamma_gas\u001b[0m\u001b[1;33m,\u001b[0m\u001b[0mgamma_oil\u001b[0m\u001b[1;33m,\u001b[0m\u001b[0mgamma_wat\u001b[0m\u001b[1;33m,\u001b[0m\u001b[0mrsb_m3m3\u001b[0m\u001b[1;33m,\u001b[0m\u001b[0mrp_m3m3\u001b[0m\u001b[1;33m,\u001b[0m\u001b[0mpb_atma\u001b[0m\u001b[1;33m,\u001b[0m\u001b[0mt_res_C\u001b[0m\u001b[1;33m,\u001b[0m\u001b[0mbob_m3m3\u001b[0m\u001b[1;33m,\u001b[0m\u001b[0mmuob_cP\u001b[0m\u001b[1;33m,\u001b[0m\u001b[0mPVTcorrPVT_correlation\u001b[0m\u001b[1;33m,\u001b[0m\u001b[0mksep_fr\u001b[0m\u001b[1;33m,\u001b[0m\u001b[0mp_ksep_atma\u001b[0m\u001b[1;33m,\u001b[0m\u001b[0mt_ksep_C\u001b[0m\u001b[1;33m,\u001b[0m\u001b[0mstr_PVT\u001b[0m\u001b[1;33m)\u001b[0m\u001b[1;33m\u001b[0m\u001b[1;33m\u001b[0m\u001b[0m\n\u001b[0m\u001b[0;32m   1149\u001b[0m \u001b[1;33m\u001b[0m\u001b[0m\n\u001b[0;32m   1150\u001b[0m     \u001b[1;32mdef\u001b[0m \u001b[0mPVT_ST_oilgas_Nm\u001b[0m\u001b[1;33m(\u001b[0m\u001b[0mself\u001b[0m\u001b[1;33m,\u001b[0m \u001b[0mp_atma\u001b[0m\u001b[1;33m,\u001b[0m\u001b[0mt_C\u001b[0m\u001b[1;33m,\u001b[0m\u001b[0mgamma_gas\u001b[0m\u001b[1;33m=\u001b[0m\u001b[0mconst_gg_\u001b[0m\u001b[1;33m,\u001b[0m\u001b[0mgamma_oil\u001b[0m\u001b[1;33m=\u001b[0m\u001b[0mconst_go_\u001b[0m\u001b[1;33m,\u001b[0m\u001b[0mgamma_wat\u001b[0m\u001b[1;33m=\u001b[0m\u001b[0mconst_gw_\u001b[0m\u001b[1;33m,\u001b[0m\u001b[0mrsb_m3m3\u001b[0m\u001b[1;33m=\u001b[0m\u001b[0mconst_rsb_default\u001b[0m\u001b[1;33m,\u001b[0m\u001b[0mrp_m3m3\u001b[0m\u001b[1;33m=\u001b[0m\u001b[1;33m-\u001b[0m\u001b[1;36m1\u001b[0m\u001b[1;33m,\u001b[0m\u001b[0mpb_atma\u001b[0m\u001b[1;33m=\u001b[0m\u001b[1;33m-\u001b[0m\u001b[1;36m1\u001b[0m\u001b[1;33m,\u001b[0m\u001b[0mt_res_C\u001b[0m\u001b[1;33m=\u001b[0m\u001b[0mconst_tres_default\u001b[0m\u001b[1;33m,\u001b[0m\u001b[0mbob_m3m3\u001b[0m\u001b[1;33m=\u001b[0m\u001b[1;33m-\u001b[0m\u001b[1;36m1\u001b[0m\u001b[1;33m,\u001b[0m\u001b[0mmuob_cP\u001b[0m\u001b[1;33m=\u001b[0m\u001b[1;33m-\u001b[0m\u001b[1;36m1\u001b[0m\u001b[1;33m,\u001b[0m\u001b[0mPVTcorrPVT_correlation\u001b[0m\u001b[1;33m=\u001b[0m\u001b[0mStanding_based\u001b[0m\u001b[1;33m,\u001b[0m\u001b[0mksep_fr\u001b[0m\u001b[1;33m=\u001b[0m\u001b[1;36m0\u001b[0m\u001b[1;33m,\u001b[0m\u001b[0mp_ksep_atma\u001b[0m\u001b[1;33m=\u001b[0m\u001b[1;33m-\u001b[0m\u001b[1;36m1\u001b[0m\u001b[1;33m,\u001b[0m\u001b[0mt_ksep_C\u001b[0m\u001b[1;33m=\u001b[0m\u001b[1;33m-\u001b[0m\u001b[1;36m1\u001b[0m\u001b[1;33m,\u001b[0m\u001b[0mstr_PVT\u001b[0m\u001b[1;33m=\u001b[0m\u001b[1;34m\"\"\u001b[0m\u001b[1;33m)\u001b[0m\u001b[1;33m:\u001b[0m\u001b[1;33m\u001b[0m\u001b[1;33m\u001b[0m\u001b[0m\n",
      "\u001b[1;32m~\\anaconda3\\lib\\site-packages\\xlwings\\main.py\u001b[0m in \u001b[0;36mrun\u001b[1;34m(self, *args)\u001b[0m\n\u001b[0;32m   2888\u001b[0m                 \u001b[1;32mif\u001b[0m \u001b[0misinstance\u001b[0m\u001b[1;33m(\u001b[0m\u001b[0mi\u001b[0m\u001b[1;33m,\u001b[0m \u001b[1;33m(\u001b[0m\u001b[0mApp\u001b[0m\u001b[1;33m,\u001b[0m \u001b[0mBook\u001b[0m\u001b[1;33m,\u001b[0m \u001b[0mSheet\u001b[0m\u001b[1;33m,\u001b[0m \u001b[0mRange\u001b[0m\u001b[1;33m,\u001b[0m \u001b[0mShape\u001b[0m\u001b[1;33m,\u001b[0m \u001b[0mChart\u001b[0m\u001b[1;33m,\u001b[0m \u001b[0mPicture\u001b[0m\u001b[1;33m,\u001b[0m \u001b[0mName\u001b[0m\u001b[1;33m)\u001b[0m\u001b[1;33m)\u001b[0m\u001b[1;33m\u001b[0m\u001b[1;33m\u001b[0m\u001b[0m\n\u001b[0;32m   2889\u001b[0m                 else i for i in args]\n\u001b[1;32m-> 2890\u001b[1;33m         \u001b[1;32mreturn\u001b[0m \u001b[0mself\u001b[0m\u001b[1;33m.\u001b[0m\u001b[0mapp\u001b[0m\u001b[1;33m.\u001b[0m\u001b[0mimpl\u001b[0m\u001b[1;33m.\u001b[0m\u001b[0mrun\u001b[0m\u001b[1;33m(\u001b[0m\u001b[0mself\u001b[0m\u001b[1;33m.\u001b[0m\u001b[0mmacro\u001b[0m\u001b[1;33m,\u001b[0m \u001b[0margs\u001b[0m\u001b[1;33m)\u001b[0m\u001b[1;33m\u001b[0m\u001b[1;33m\u001b[0m\u001b[0m\n\u001b[0m\u001b[0;32m   2891\u001b[0m \u001b[1;33m\u001b[0m\u001b[0m\n\u001b[0;32m   2892\u001b[0m     \u001b[0m__call__\u001b[0m \u001b[1;33m=\u001b[0m \u001b[0mrun\u001b[0m\u001b[1;33m\u001b[0m\u001b[1;33m\u001b[0m\u001b[0m\n",
      "\u001b[1;32m~\\anaconda3\\lib\\site-packages\\xlwings\\_xlwindows.py\u001b[0m in \u001b[0;36mrun\u001b[1;34m(self, macro, args)\u001b[0m\n\u001b[0;32m    419\u001b[0m \u001b[1;33m\u001b[0m\u001b[0m\n\u001b[0;32m    420\u001b[0m     \u001b[1;32mdef\u001b[0m \u001b[0mrun\u001b[0m\u001b[1;33m(\u001b[0m\u001b[0mself\u001b[0m\u001b[1;33m,\u001b[0m \u001b[0mmacro\u001b[0m\u001b[1;33m,\u001b[0m \u001b[0margs\u001b[0m\u001b[1;33m)\u001b[0m\u001b[1;33m:\u001b[0m\u001b[1;33m\u001b[0m\u001b[1;33m\u001b[0m\u001b[0m\n\u001b[1;32m--> 421\u001b[1;33m         \u001b[1;32mreturn\u001b[0m \u001b[0mself\u001b[0m\u001b[1;33m.\u001b[0m\u001b[0mxl\u001b[0m\u001b[1;33m.\u001b[0m\u001b[0mRun\u001b[0m\u001b[1;33m(\u001b[0m\u001b[0mmacro\u001b[0m\u001b[1;33m,\u001b[0m \u001b[1;33m*\u001b[0m\u001b[0margs\u001b[0m\u001b[1;33m)\u001b[0m\u001b[1;33m\u001b[0m\u001b[1;33m\u001b[0m\u001b[0m\n\u001b[0m\u001b[0;32m    422\u001b[0m \u001b[1;33m\u001b[0m\u001b[0m\n\u001b[0;32m    423\u001b[0m \u001b[1;33m\u001b[0m\u001b[0m\n",
      "\u001b[1;32m~\\anaconda3\\lib\\site-packages\\xlwings\\_xlwindows.py\u001b[0m in \u001b[0;36m__call__\u001b[1;34m(self, *args, **kwargs)\u001b[0m\n\u001b[0;32m     64\u001b[0m         \u001b[1;32mwhile\u001b[0m \u001b[1;32mTrue\u001b[0m\u001b[1;33m:\u001b[0m\u001b[1;33m\u001b[0m\u001b[1;33m\u001b[0m\u001b[0m\n\u001b[0;32m     65\u001b[0m             \u001b[1;32mtry\u001b[0m\u001b[1;33m:\u001b[0m\u001b[1;33m\u001b[0m\u001b[1;33m\u001b[0m\u001b[0m\n\u001b[1;32m---> 66\u001b[1;33m                 \u001b[0mv\u001b[0m \u001b[1;33m=\u001b[0m \u001b[0mself\u001b[0m\u001b[1;33m.\u001b[0m\u001b[0m__method\u001b[0m\u001b[1;33m(\u001b[0m\u001b[1;33m*\u001b[0m\u001b[0margs\u001b[0m\u001b[1;33m,\u001b[0m \u001b[1;33m**\u001b[0m\u001b[0mkwargs\u001b[0m\u001b[1;33m)\u001b[0m\u001b[1;33m\u001b[0m\u001b[1;33m\u001b[0m\u001b[0m\n\u001b[0m\u001b[0;32m     67\u001b[0m                 \u001b[0mt\u001b[0m \u001b[1;33m=\u001b[0m \u001b[0mtype\u001b[0m\u001b[1;33m(\u001b[0m\u001b[0mv\u001b[0m\u001b[1;33m)\u001b[0m\u001b[1;33m\u001b[0m\u001b[1;33m\u001b[0m\u001b[0m\n\u001b[0;32m     68\u001b[0m                 \u001b[1;32mif\u001b[0m \u001b[0mt\u001b[0m \u001b[1;32mis\u001b[0m \u001b[0mCDispatch\u001b[0m\u001b[1;33m:\u001b[0m\u001b[1;33m\u001b[0m\u001b[1;33m\u001b[0m\u001b[0m\n",
      "\u001b[1;32m~\\anaconda3\\lib\\site-packages\\win32com\\client\\dynamic.py\u001b[0m in \u001b[0;36mRun\u001b[1;34m(self, Macro, Arg1, Arg2, Arg3, Arg4, Arg5, Arg6, Arg7, Arg8, Arg9, Arg10, Arg11, Arg12, Arg13, Arg14, Arg15, Arg16, Arg17, Arg18, Arg19, Arg20, Arg21, Arg22, Arg23, Arg24, Arg25, Arg26, Arg27, Arg28, Arg29, Arg30)\u001b[0m\n",
      "\u001b[1;32m~\\anaconda3\\lib\\site-packages\\win32com\\client\\dynamic.py\u001b[0m in \u001b[0;36m_ApplyTypes_\u001b[1;34m(self, dispid, wFlags, retType, argTypes, user, resultCLSID, *args)\u001b[0m\n\u001b[0;32m    285\u001b[0m \u001b[1;33m\u001b[0m\u001b[0m\n\u001b[0;32m    286\u001b[0m         \u001b[1;32mdef\u001b[0m \u001b[0m_ApplyTypes_\u001b[0m\u001b[1;33m(\u001b[0m\u001b[0mself\u001b[0m\u001b[1;33m,\u001b[0m \u001b[0mdispid\u001b[0m\u001b[1;33m,\u001b[0m \u001b[0mwFlags\u001b[0m\u001b[1;33m,\u001b[0m \u001b[0mretType\u001b[0m\u001b[1;33m,\u001b[0m \u001b[0margTypes\u001b[0m\u001b[1;33m,\u001b[0m \u001b[0muser\u001b[0m\u001b[1;33m,\u001b[0m \u001b[0mresultCLSID\u001b[0m\u001b[1;33m,\u001b[0m \u001b[1;33m*\u001b[0m\u001b[0margs\u001b[0m\u001b[1;33m)\u001b[0m\u001b[1;33m:\u001b[0m\u001b[1;33m\u001b[0m\u001b[1;33m\u001b[0m\u001b[0m\n\u001b[1;32m--> 287\u001b[1;33m                 \u001b[0mresult\u001b[0m \u001b[1;33m=\u001b[0m \u001b[0mself\u001b[0m\u001b[1;33m.\u001b[0m\u001b[0m_oleobj_\u001b[0m\u001b[1;33m.\u001b[0m\u001b[0mInvokeTypes\u001b[0m\u001b[1;33m(\u001b[0m\u001b[1;33m*\u001b[0m\u001b[1;33m(\u001b[0m\u001b[0mdispid\u001b[0m\u001b[1;33m,\u001b[0m \u001b[0mLCID\u001b[0m\u001b[1;33m,\u001b[0m \u001b[0mwFlags\u001b[0m\u001b[1;33m,\u001b[0m \u001b[0mretType\u001b[0m\u001b[1;33m,\u001b[0m \u001b[0margTypes\u001b[0m\u001b[1;33m)\u001b[0m \u001b[1;33m+\u001b[0m \u001b[0margs\u001b[0m\u001b[1;33m)\u001b[0m\u001b[1;33m\u001b[0m\u001b[1;33m\u001b[0m\u001b[0m\n\u001b[0m\u001b[0;32m    288\u001b[0m                 \u001b[1;32mreturn\u001b[0m \u001b[0mself\u001b[0m\u001b[1;33m.\u001b[0m\u001b[0m_get_good_object_\u001b[0m\u001b[1;33m(\u001b[0m\u001b[0mresult\u001b[0m\u001b[1;33m,\u001b[0m \u001b[0muser\u001b[0m\u001b[1;33m,\u001b[0m \u001b[0mresultCLSID\u001b[0m\u001b[1;33m)\u001b[0m\u001b[1;33m\u001b[0m\u001b[1;33m\u001b[0m\u001b[0m\n\u001b[0;32m    289\u001b[0m \u001b[1;33m\u001b[0m\u001b[0m\n",
      "\u001b[1;31mcom_error\u001b[0m: (-2147352567, 'Ошибка.', (0, 'Unifloc_7_25', 'Application-defined or object-defined error', 'C:\\\\Program Files\\\\Common Files\\\\Microsoft Shared\\\\VBA\\\\VBA7.1\\\\1049\\\\VbLR6.chm', 1000095, -2146788248), None)"
     ]
    }
   ],
   "source": [
    "p_0 = 10\n",
    "p_n = 460\n",
    "dp = 20 \n",
    "p_atm = np.arange(p_0, p_n, dp) #\n",
    "t_C = 80 #\n",
    "gamma_gas_ = 0.8 # удельная плотность газа, по воздуху;\n",
    "gamma_oil_ = 0.86 # удельная плотность нефти, по воде;\n",
    "gamma_wat_ = 1.1 # удельная плотность воды, по воде;\n",
    "Rsb_ = 80 # газосодержание при давлении насыщения, м3/м3;\n",
    "Rp_  = 80 # замерной газовый фактор, м3/м3;\n",
    "Pb_ = 125 # давление насыщения при температуре пласта, атм;\n",
    "Tres_ = 100 # пластовая температура, С;\n",
    "Bob_ = 1.2 # объемный коэффициент нефти, м3/м3;\n",
    "muob_ = 1 # вязкость нефти при давлении насыщения, сП;\n",
    "PVTcorr = 0; # Выбор набора корреляций для расчета;\n",
    "# Зададим параметры сепарации для учета влияния на свойства флюида\n",
    "Ksep_ = 0.5 # коэффициент сепарации дополнительынй для сепарации заданной в потоке;\n",
    "Psep_ = 50 # давление при которой была сепарация, атм;\n",
    "Tsep = 80 # температура при которой была сепарция, С;\n",
    "gas_only = False\n",
    "pb_list, rs_list, mu_oil_list, compr_oil_list, bo_list, rho_oil_list, cpo_list  = [], [], [], [], [], [], []\n",
    "z_list, rho_gas_list, mu_gas_list,compr_gas_list, bg_list, cpg_list = [], [], [], [], [], []\n",
    "rho_wat_list, mu_wat_list, compr_wat_list, bw_list, cpw_list = [], [], [], [], []\n",
    "ST_og_list, ST_wg_list = [], []\n",
    "pb_list_choke, rs_list_choke, mu_oil_list_choke, compr_oil_list_choke, bo_list_choke, rho_oil_list_choke, cpo_list_choke  = [], [], [], [], [], [], []\n",
    "z_list_choke, rho_gas_list_choke, mu_gas_list_choke,compr_gas_list_choke, bg_list_choke, cpg_list_choke = [], [], [], [], [], []\n",
    "rho_wat_list_choke, mu_wat_list_choke, compr_wat_list_choke, bw_list_choke, cpw_list_choke = [], [], [], [], []\n",
    "ST_og_list_choke, ST_wg_list_choke = [], []\n",
    "for p in p_atm:\n",
    "    pb = UniflocVBA.PVT_pb_atma(t_C,gamma_gas_,gamma_oil_,gamma_wat_,Rsb_,Rp_,Pb_,Tres_,Bob_,muob_,PVTcorr,Ksep_,Psep_,Tsep)\n",
    "    pb_list.append(pb)\n",
    "    z = UniflocVBA.PVT_bo_m3m3(p,t_C,gamma_gas_,gamma_oil_,gamma_wat_,Rsb_,Rp_,Pb_,Tres_,Bob_,muob_,PVTcorr,Ksep_,Psep_,Tsep)\n",
    "    z_list.append(z)\n",
    "    rs = UniflocVBA.PVT_rs_m3m3(p,t_C,gamma_gas_,gamma_oil_,gamma_wat_,Rsb_,Rp_,Pb_,Tres_,Bob_,muob_,PVTcorr,Ksep_,Psep_,Tsep)\n",
    "    rs_list.append(rs)\n",
    "    mu_oil_cP = UniflocVBA.PVT_mu_oil_cP(p,t_C,gamma_gas_,gamma_oil_,gamma_wat_,Rsb_,Rp_,Pb_,Tres_,Bob_,muob_,PVTcorr,Ksep_,Psep_,Tsep)\n",
    "    mu_oil_list.append(mu_oil_cP)\n",
    "    compr_oil_1atm = UniflocVBA.PVT_compressibility_oil_1atm(p,t_C,gamma_gas_,gamma_oil_,gamma_wat_,Rsb_,Rp_,Pb_,Tres_,Bob_,muob_,PVTcorr,Ksep_,Psep_,Tsep)\n",
    "    compr_oil_list.append(compr_oil_1atm)\n",
    "    b_bo_m3m3 = UniflocVBA.PVT_bo_m3m3(p,t_C,gamma_gas_,gamma_oil_,gamma_wat_,Rsb_,Rp_,Pb_,Tres_,Bob_,muob_,PVTcorr,Ksep_,Psep_,Tsep)\n",
    "    bo_list.append(b_bo_m3m3)\n",
    "    rho_oil_kgm3 = UniflocVBA.PVT_rho_oil_kgm3(p,t_C,gamma_gas_,gamma_oil_,gamma_wat_,Rsb_,Rp_,Pb_,Tres_,Bob_,muob_,PVTcorr,Ksep_,Psep_,Tsep)\n",
    "    rho_oil_list.append(rho_oil_kgm3)\n",
    "    rho_gas_kgm3 = UniflocVBA.PVT_rho_gas_kgm3(p,t_C,gamma_gas_,gamma_oil_,gamma_wat_,Rsb_,Rp_,Pb_,Tres_,Bob_,muob_,PVTcorr,Ksep_,Psep_,Tsep)\n",
    "    rho_gas_list.append(rho_gas_kgm3)\n",
    "    cpo = UniflocVBA.PVT_cp_oil_JkgC(p,t_C,gamma_gas_,gamma_oil_,gamma_wat_,Rsb_,Rp_,Pb_,Tres_,Bob_,muob_,PVTcorr,Ksep_,Psep_,Tsep)\n",
    "    cpo_list.append(cpo)\n",
    "    mu_gas_cp = UniflocVBA.PVT_mu_gas_cP(p,t_C,gamma_gas_,gamma_oil_,gamma_wat_,Rsb_,Rp_,Pb_,Tres_,Bob_,muob_,PVTcorr,Ksep_,Psep_,Tsep)\n",
    "    mu_gas_list.append(mu_gas_cp)\n",
    "    compr_gas_1atm = UniflocVBA.PVT_compressibility_gas_1atm(p,t_C,gamma_gas_,gamma_oil_,gamma_wat_,Rsb_,Rp_,Pb_,Tres_,Bob_,muob_,PVTcorr,Ksep_,Psep_,Tsep)\n",
    "    compr_gas_list.append(compr_gas_1atm)\n",
    "    b_gas_m3m3 = UniflocVBA.PVT_bg_m3m3(p,t_C,gamma_gas_,gamma_oil_,gamma_wat_,Rsb_,Rp_,Pb_,Tres_,Bob_,muob_,PVTcorr,Ksep_,Psep_,Tsep)\n",
    "    bg_list.append(b_gas_m3m3)\n",
    "    cpg = UniflocVBA.PVT_cp_gas_JkgC(p,t_C,gamma_gas_,gamma_oil_,gamma_wat_,Rsb_,Rp_,Pb_,Tres_,Bob_,muob_,PVTcorr,Ksep_,Psep_,Tsep)\n",
    "    cpg_list.append(cpg)\n",
    "    rho_wat_kgm3 = UniflocVBA.PVT_rho_wat_kgm3(p,t_C,gamma_gas_,gamma_oil_,gamma_wat_,Rsb_,Rp_,Pb_,Tres_,Bob_,muob_,PVTcorr,Ksep_,Psep_,Tsep)\n",
    "    rho_wat_list.append(rho_wat_kgm3)\n",
    "    mu_wat_cp = UniflocVBA.PVT_mu_wat_cP(p,t_C,gamma_gas_,gamma_oil_,gamma_wat_,Rsb_,Rp_,Pb_,Tres_,Bob_,muob_,PVTcorr,Ksep_,Psep_,Tsep)\n",
    "    mu_wat_list.append(mu_wat_cp)\n",
    "    compr_wat_1atm = UniflocVBA.PVT_compressibility_wat_1atm(p,t_C,gamma_gas_,gamma_oil_,gamma_wat_,Rsb_,Rp_,Pb_,Tres_,Bob_,muob_,PVTcorr,Ksep_,Psep_,Tsep)\n",
    "    compr_wat_list.append(compr_wat_1atm)\n",
    "    b_wat_m3m3 = UniflocVBA.PVT_bw_m3m3(p,t_C,gamma_gas_,gamma_oil_,gamma_wat_,Rsb_,Rp_,Pb_,Tres_,Bob_,muob_,PVTcorr,Ksep_,Psep_,Tsep)\n",
    "    bw_list.append(b_wat_m3m3)\n",
    "    cpw = UniflocVBA.PVT_cp_wat_JkgC(p,t_C,gamma_gas_,gamma_oil_,gamma_wat_,Rsb_,Rp_,Pb_,Tres_,Bob_,muob_,PVTcorr,Ksep_,Psep_,Tsep)\n",
    "    cpw_list.append(cpw)\n",
    "    ST_og = UniflocVBA.PVT_ST_oilgas_Nm(p,t_C,gamma_gas_,gamma_oil_,gamma_wat_,Rsb_,Rp_,Pb_,Tres_,Bob_,muob_,PVTcorr,Ksep_,Psep_,Tsep)\n",
    "    ST_og_list.append(ST_og)\n",
    "    ST_wg = UniflocVBA.PVT_ST_watgas_Nm(p,t_C,gamma_gas_,gamma_oil_,gamma_wat_,Rsb_,Rp_,Pb_,Tres_,Bob_,muob_,PVTcorr,Ksep_,Psep_,Tsep)\n",
    "    ST_wg_list.append(ST_wg)\n",
    "    \n",
    "    pb_ = u7_excel.u7PVT.PVT_pb_atma(t_C,gamma_gas_,gamma_oil_,gamma_wat_,Rsb_,Rp_,Pb_,Tres_,Bob_,muob_,PVTcorr,Ksep_,Psep_,Tsep)\n",
    "    pb_list_choke.append(pb_)\n",
    "    z_ = u7_excel.u7PVT.PVT_bo_m3m3(p,t_C,gamma_gas_,gamma_oil_,gamma_wat_,Rsb_,Rp_,Pb_,Tres_,Bob_,muob_,PVTcorr,Ksep_,Psep_,Tsep)\n",
    "    z_list_choke.append(z_)\n",
    "    rs_ = u7_excel.u7PVT.PVT_rs_m3m3(p,t_C,gamma_gas_,gamma_oil_,gamma_wat_,Rsb_,Rp_,Pb_,Tres_,Bob_,muob_,PVTcorr,Ksep_,Psep_,Tsep)\n",
    "    rs_list_choke.append(rs_)\n",
    "    mu_oil_cP_ = u7_excel.u7PVT.PVT_mu_oil_cP(p,t_C,gamma_gas_,gamma_oil_,gamma_wat_,Rsb_,Rp_,Pb_,Tres_,Bob_,muob_,PVTcorr,Ksep_,Psep_,Tsep)\n",
    "    mu_oil_list_choke.append(mu_oil_cP_)\n",
    "    compr_oil_1atm_ = u7_excel.u7PVT.PVT_compressibility_oil_1atm(p,t_C,gamma_gas_,gamma_oil_,gamma_wat_,Rsb_,Rp_,Pb_,Tres_,Bob_,muob_,PVTcorr,Ksep_,Psep_,Tsep)\n",
    "    compr_oil_list_choke.append(compr_oil_1atm_)\n",
    "    b_bo_m3m3_ = u7_excel.u7PVT.PVT_bo_m3m3(p,t_C,gamma_gas_,gamma_oil_,gamma_wat_,Rsb_,Rp_,Pb_,Tres_,Bob_,muob_,PVTcorr,Ksep_,Psep_,Tsep)\n",
    "    bo_list_choke.append(b_bo_m3m3_)\n",
    "    rho_oil_kgm3_ = u7_excel.u7PVT.PVT_rho_oil_kgm3(p,t_C,gamma_gas_,gamma_oil_,gamma_wat_,Rsb_,Rp_,Pb_,Tres_,Bob_,muob_,PVTcorr,Ksep_,Psep_,Tsep)\n",
    "    rho_oil_list_choke.append(rho_oil_kgm3_)\n",
    "    rho_gas_kgm3_ = u7_excel.u7PVT.PVT_rho_gas_kgm3(p,t_C,gamma_gas_,gamma_oil_,gamma_wat_,Rsb_,Rp_,Pb_,Tres_,Bob_,muob_,PVTcorr,Ksep_,Psep_,Tsep)\n",
    "    rho_gas_list_choke.append(rho_gas_kgm3_)\n",
    "    cpo_ = u7_excel.u7PVT.PVT_cp_oil_JkgC(p,t_C,gamma_gas_,gamma_oil_,gamma_wat_,Rsb_,Rp_,Pb_,Tres_,Bob_,muob_,PVTcorr,Ksep_,Psep_,Tsep)\n",
    "    cpo_list_choke.append(cpo_)\n",
    "    mu_gas_cp_ = u7_excel.u7PVT.PVT_mu_gas_cP(p,t_C,gamma_gas_,gamma_oil_,gamma_wat_,Rsb_,Rp_,Pb_,Tres_,Bob_,muob_,PVTcorr,Ksep_,Psep_,Tsep)\n",
    "    mu_gas_list_choke.append(mu_gas_cp_)\n",
    "    compr_gas_1atm_ = u7_excel.u7PVT.PVT_compressibility_gas_1atm(p,t_C,gamma_gas_,gamma_oil_,gamma_wat_,Rsb_,Rp_,Pb_,Tres_,Bob_,muob_,PVTcorr,Ksep_,Psep_,Tsep)\n",
    "    compr_gas_list_choke.append(compr_gas_1atm_)\n",
    "    b_gas_m3m3_ = u7_excel.u7PVT.PVT_bg_m3m3(p,t_C,gamma_gas_,gamma_oil_,gamma_wat_,Rsb_,Rp_,Pb_,Tres_,Bob_,muob_,PVTcorr,Ksep_,Psep_,Tsep)\n",
    "    bg_list_choke.append(b_gas_m3m3_)\n",
    "    cpg_ = u7_excel.u7PVT.PVT_cp_gas_JkgC(p,t_C,gamma_gas_,gamma_oil_,gamma_wat_,Rsb_,Rp_,Pb_,Tres_,Bob_,muob_,PVTcorr,Ksep_,Psep_,Tsep)\n",
    "    cpg_list_choke.append(cpg_)\n",
    "    rho_wat_kgm3_ = u7_excel.u7PVT.PVT_rho_wat_kgm3(p,t_C,gamma_gas_,gamma_oil_,gamma_wat_,Rsb_,Rp_,Pb_,Tres_,Bob_,muob_,PVTcorr,Ksep_,Psep_,Tsep)\n",
    "    rho_wat_list_choke.append(rho_wat_kgm3_)\n",
    "    mu_wat_cp_ = u7_excel.u7PVT.PVT_mu_wat_cP(p,t_C,gamma_gas_,gamma_oil_,gamma_wat_,Rsb_,Rp_,Pb_,Tres_,Bob_,muob_,PVTcorr,Ksep_,Psep_,Tsep)\n",
    "    mu_wat_list_choke.append(mu_wat_cp_)\n",
    "    compr_wat_1atm_ = u7_excel.u7PVT.PVT_compressibility_wat_1atm(p,t_C,gamma_gas_,gamma_oil_,gamma_wat_,Rsb_,Rp_,Pb_,Tres_,Bob_,muob_,PVTcorr,Ksep_,Psep_,Tsep)\n",
    "    compr_wat_list_choke.append(compr_wat_1atm_)\n",
    "    b_wat_m3m3_ = u7_excel.u7PVT.PVT_bw_m3m3(p,t_C,gamma_gas_,gamma_oil_,gamma_wat_,Rsb_,Rp_,Pb_,Tres_,Bob_,muob_,PVTcorr,Ksep_,Psep_,Tsep)\n",
    "    bw_list_choke.append(b_wat_m3m3_)\n",
    "    cpw_ = u7_excel.u7PVT.PVT_cp_wat_JkgC(p,t_C,gamma_gas_,gamma_oil_,gamma_wat_,Rsb_,Rp_,Pb_,Tres_,Bob_,muob_,PVTcorr,Ksep_,Psep_,Tsep)\n",
    "    cpw_list_choke.append(cpw_)\n",
    "    ST_og_ = u7_excel.u7PVT.PVT_ST_oilgas_Nm(p,t_C,gamma_gas_,gamma_oil_,gamma_wat_,Rsb_,Rp_,Pb_,Tres_,Bob_,muob_,PVTcorr,Ksep_,Psep_,Tsep)\n",
    "    ST_og_list_choke.append(ST_og_)\n",
    "    ST_wg_ = u7_excel.u7PVT.PVT_ST_watgas_Nm(p,t_C,gamma_gas_,gamma_oil_,gamma_wat_,Rsb_,Rp_,Pb_,Tres_,Bob_,muob_,PVTcorr,Ksep_,Psep_,Tsep)\n",
    "    ST_wg_list_choke.append(ST_wg_)\n",
    "\n",
    "    \n"
   ]
  },
  {
   "cell_type": "code",
   "execution_count": 6,
   "metadata": {},
   "outputs": [
    {
     "ename": "com_error",
     "evalue": "(-2147352567, 'Ошибка.', (0, None, None, None, 0, -2146788248), None)",
     "output_type": "error",
     "traceback": [
      "\u001b[1;31m---------------------------------------------------------------------------\u001b[0m",
      "\u001b[1;31mcom_error\u001b[0m                                 Traceback (most recent call last)",
      "\u001b[1;32m<ipython-input-6-cfd062e95b99>\u001b[0m in \u001b[0;36m<module>\u001b[1;34m\u001b[0m\n\u001b[0;32m      7\u001b[0m \u001b[0mchoke_list\u001b[0m\u001b[1;33m,\u001b[0m \u001b[0mchoke_dll_list\u001b[0m \u001b[1;33m=\u001b[0m \u001b[1;33m[\u001b[0m\u001b[1;33m]\u001b[0m\u001b[1;33m,\u001b[0m \u001b[1;33m[\u001b[0m\u001b[1;33m]\u001b[0m\u001b[1;33m\u001b[0m\u001b[1;33m\u001b[0m\u001b[0m\n\u001b[0;32m      8\u001b[0m \u001b[1;32mfor\u001b[0m \u001b[0mq\u001b[0m \u001b[1;32min\u001b[0m \u001b[0mq_arr\u001b[0m\u001b[1;33m:\u001b[0m\u001b[1;33m\u001b[0m\u001b[1;33m\u001b[0m\u001b[0m\n\u001b[1;32m----> 9\u001b[1;33m     \u001b[0mchoke\u001b[0m \u001b[1;33m=\u001b[0m \u001b[0mUniflocVBA\u001b[0m\u001b[1;33m.\u001b[0m\u001b[0mMF_calibr_choke_fast\u001b[0m\u001b[1;33m(\u001b[0m\u001b[0mqliq_sm3day\u001b[0m\u001b[1;33m=\u001b[0m\u001b[0mq\u001b[0m\u001b[1;33m,\u001b[0m \u001b[0mfw_perc\u001b[0m\u001b[1;33m=\u001b[0m\u001b[1;36m20\u001b[0m\u001b[1;33m,\u001b[0m \u001b[0md_choke_mm\u001b[0m\u001b[1;33m=\u001b[0m\u001b[1;36m15\u001b[0m\u001b[1;33m,\u001b[0m \u001b[0mp_in_atma\u001b[0m\u001b[1;33m=\u001b[0m\u001b[1;36m60\u001b[0m\u001b[1;33m,\u001b[0m \u001b[0mp_out_atma\u001b[0m\u001b[1;33m=\u001b[0m\u001b[1;36m50\u001b[0m\u001b[1;33m,\u001b[0m \u001b[0mstr_PVT\u001b[0m\u001b[1;33m=\u001b[0m\u001b[0mstr\u001b[0m\u001b[1;33m)\u001b[0m\u001b[1;33m\u001b[0m\u001b[1;33m\u001b[0m\u001b[0m\n\u001b[0m\u001b[0;32m     10\u001b[0m     \u001b[0mchoke_list\u001b[0m\u001b[1;33m.\u001b[0m\u001b[0mappend\u001b[0m\u001b[1;33m(\u001b[0m\u001b[0mchoke\u001b[0m\u001b[1;33m[\u001b[0m\u001b[1;36m0\u001b[0m\u001b[1;33m]\u001b[0m\u001b[1;33m[\u001b[0m\u001b[1;36m0\u001b[0m\u001b[1;33m]\u001b[0m\u001b[1;33m)\u001b[0m\u001b[1;33m\u001b[0m\u001b[1;33m\u001b[0m\u001b[0m\n\u001b[0;32m     11\u001b[0m     \u001b[0mtest_choke\u001b[0m \u001b[1;33m=\u001b[0m \u001b[0mu7_excel\u001b[0m\u001b[1;33m.\u001b[0m\u001b[0mu7_Excel_functions_MF\u001b[0m\u001b[1;33m.\u001b[0m\u001b[0mMF_calibr_choke_fast\u001b[0m\u001b[1;33m(\u001b[0m\u001b[0mqliq_sm3day\u001b[0m\u001b[1;33m=\u001b[0m\u001b[0mq\u001b[0m\u001b[1;33m,\u001b[0m \u001b[0mfw_perc\u001b[0m\u001b[1;33m=\u001b[0m\u001b[1;36m20\u001b[0m\u001b[1;33m,\u001b[0m \u001b[0md_choke_mm\u001b[0m\u001b[1;33m=\u001b[0m\u001b[1;36m15\u001b[0m\u001b[1;33m,\u001b[0m \u001b[0mp_in_atma\u001b[0m\u001b[1;33m=\u001b[0m\u001b[1;36m60\u001b[0m\u001b[1;33m,\u001b[0m \u001b[0mp_out_atma\u001b[0m\u001b[1;33m=\u001b[0m\u001b[1;36m50\u001b[0m\u001b[1;33m,\u001b[0m \u001b[0mstr_PVT\u001b[0m\u001b[1;33m=\u001b[0m\u001b[0mpvt_str\u001b[0m\u001b[1;33m)\u001b[0m\u001b[1;33m\u001b[0m\u001b[1;33m\u001b[0m\u001b[0m\n",
      "\u001b[1;32m~\\Downloads\\unifloc_net-dev_3\\unifloc_net-dev_3\\test\\unifloc_vba_python_api\\python_api.py\u001b[0m in \u001b[0;36mMF_calibr_choke_fast\u001b[1;34m(self, qliq_sm3day, fw_perc, d_choke_mm, p_in_atma, p_out_atma, d_pipe_mm, t_choke_C, str_PVT, q_gas_sm3day)\u001b[0m\n\u001b[0;32m    546\u001b[0m \u001b[1;33m\u001b[0m\u001b[0m\n\u001b[0;32m    547\u001b[0m         \u001b[0mself\u001b[0m\u001b[1;33m.\u001b[0m\u001b[0mf_MF_calibr_choke_fast\u001b[0m \u001b[1;33m=\u001b[0m \u001b[0mself\u001b[0m\u001b[1;33m.\u001b[0m\u001b[0mbook\u001b[0m\u001b[1;33m.\u001b[0m\u001b[0mmacro\u001b[0m\u001b[1;33m(\u001b[0m\u001b[1;34m\"MF_calibr_choke_fast\"\u001b[0m\u001b[1;33m)\u001b[0m\u001b[1;33m\u001b[0m\u001b[1;33m\u001b[0m\u001b[0m\n\u001b[1;32m--> 548\u001b[1;33m         \u001b[1;32mreturn\u001b[0m \u001b[0mself\u001b[0m\u001b[1;33m.\u001b[0m\u001b[0mf_MF_calibr_choke_fast\u001b[0m\u001b[1;33m(\u001b[0m\u001b[0mqliq_sm3day\u001b[0m\u001b[1;33m,\u001b[0m\u001b[0mfw_perc\u001b[0m\u001b[1;33m,\u001b[0m\u001b[0md_choke_mm\u001b[0m\u001b[1;33m,\u001b[0m\u001b[0mp_in_atma\u001b[0m\u001b[1;33m,\u001b[0m\u001b[0mp_out_atma\u001b[0m\u001b[1;33m,\u001b[0m\u001b[0md_pipe_mm\u001b[0m\u001b[1;33m,\u001b[0m\u001b[0mt_choke_C\u001b[0m\u001b[1;33m,\u001b[0m\u001b[0mstr_PVT\u001b[0m\u001b[1;33m,\u001b[0m\u001b[0mq_gas_sm3day\u001b[0m\u001b[1;33m)\u001b[0m\u001b[1;33m\u001b[0m\u001b[1;33m\u001b[0m\u001b[0m\n\u001b[0m\u001b[0;32m    549\u001b[0m \u001b[1;33m\u001b[0m\u001b[0m\n\u001b[0;32m    550\u001b[0m     \u001b[1;32mdef\u001b[0m \u001b[0mMF_q_choke_sm3day\u001b[0m\u001b[1;33m(\u001b[0m\u001b[0mself\u001b[0m\u001b[1;33m,\u001b[0m \u001b[0mfw_perc\u001b[0m\u001b[1;33m,\u001b[0m\u001b[0md_choke_mm\u001b[0m\u001b[1;33m,\u001b[0m\u001b[0mp_in_atma\u001b[0m\u001b[1;33m,\u001b[0m\u001b[0mp_out_atma\u001b[0m\u001b[1;33m,\u001b[0m\u001b[0md_pipe_mm\u001b[0m\u001b[1;33m=\u001b[0m\u001b[1;36m70\u001b[0m\u001b[1;33m,\u001b[0m\u001b[0mt_choke_C\u001b[0m\u001b[1;33m=\u001b[0m\u001b[1;36m20\u001b[0m\u001b[1;33m,\u001b[0m\u001b[0mc_calibr_fr\u001b[0m\u001b[1;33m=\u001b[0m\u001b[1;36m1\u001b[0m\u001b[1;33m,\u001b[0m\u001b[0mstr_PVT\u001b[0m\u001b[1;33m=\u001b[0m\u001b[0mPVT_DEFAULT\u001b[0m\u001b[1;33m,\u001b[0m\u001b[0mq_gas_sm3day\u001b[0m\u001b[1;33m=\u001b[0m\u001b[1;36m0\u001b[0m\u001b[1;33m)\u001b[0m\u001b[1;33m:\u001b[0m\u001b[1;33m\u001b[0m\u001b[1;33m\u001b[0m\u001b[0m\n",
      "\u001b[1;32m~\\anaconda3\\lib\\site-packages\\xlwings\\main.py\u001b[0m in \u001b[0;36mrun\u001b[1;34m(self, *args)\u001b[0m\n\u001b[0;32m   2888\u001b[0m                 \u001b[1;32mif\u001b[0m \u001b[0misinstance\u001b[0m\u001b[1;33m(\u001b[0m\u001b[0mi\u001b[0m\u001b[1;33m,\u001b[0m \u001b[1;33m(\u001b[0m\u001b[0mApp\u001b[0m\u001b[1;33m,\u001b[0m \u001b[0mBook\u001b[0m\u001b[1;33m,\u001b[0m \u001b[0mSheet\u001b[0m\u001b[1;33m,\u001b[0m \u001b[0mRange\u001b[0m\u001b[1;33m,\u001b[0m \u001b[0mShape\u001b[0m\u001b[1;33m,\u001b[0m \u001b[0mChart\u001b[0m\u001b[1;33m,\u001b[0m \u001b[0mPicture\u001b[0m\u001b[1;33m,\u001b[0m \u001b[0mName\u001b[0m\u001b[1;33m)\u001b[0m\u001b[1;33m)\u001b[0m\u001b[1;33m\u001b[0m\u001b[1;33m\u001b[0m\u001b[0m\n\u001b[0;32m   2889\u001b[0m                 else i for i in args]\n\u001b[1;32m-> 2890\u001b[1;33m         \u001b[1;32mreturn\u001b[0m \u001b[0mself\u001b[0m\u001b[1;33m.\u001b[0m\u001b[0mapp\u001b[0m\u001b[1;33m.\u001b[0m\u001b[0mimpl\u001b[0m\u001b[1;33m.\u001b[0m\u001b[0mrun\u001b[0m\u001b[1;33m(\u001b[0m\u001b[0mself\u001b[0m\u001b[1;33m.\u001b[0m\u001b[0mmacro\u001b[0m\u001b[1;33m,\u001b[0m \u001b[0margs\u001b[0m\u001b[1;33m)\u001b[0m\u001b[1;33m\u001b[0m\u001b[1;33m\u001b[0m\u001b[0m\n\u001b[0m\u001b[0;32m   2891\u001b[0m \u001b[1;33m\u001b[0m\u001b[0m\n\u001b[0;32m   2892\u001b[0m     \u001b[0m__call__\u001b[0m \u001b[1;33m=\u001b[0m \u001b[0mrun\u001b[0m\u001b[1;33m\u001b[0m\u001b[1;33m\u001b[0m\u001b[0m\n",
      "\u001b[1;32m~\\anaconda3\\lib\\site-packages\\xlwings\\_xlwindows.py\u001b[0m in \u001b[0;36mrun\u001b[1;34m(self, macro, args)\u001b[0m\n\u001b[0;32m    419\u001b[0m \u001b[1;33m\u001b[0m\u001b[0m\n\u001b[0;32m    420\u001b[0m     \u001b[1;32mdef\u001b[0m \u001b[0mrun\u001b[0m\u001b[1;33m(\u001b[0m\u001b[0mself\u001b[0m\u001b[1;33m,\u001b[0m \u001b[0mmacro\u001b[0m\u001b[1;33m,\u001b[0m \u001b[0margs\u001b[0m\u001b[1;33m)\u001b[0m\u001b[1;33m:\u001b[0m\u001b[1;33m\u001b[0m\u001b[1;33m\u001b[0m\u001b[0m\n\u001b[1;32m--> 421\u001b[1;33m         \u001b[1;32mreturn\u001b[0m \u001b[0mself\u001b[0m\u001b[1;33m.\u001b[0m\u001b[0mxl\u001b[0m\u001b[1;33m.\u001b[0m\u001b[0mRun\u001b[0m\u001b[1;33m(\u001b[0m\u001b[0mmacro\u001b[0m\u001b[1;33m,\u001b[0m \u001b[1;33m*\u001b[0m\u001b[0margs\u001b[0m\u001b[1;33m)\u001b[0m\u001b[1;33m\u001b[0m\u001b[1;33m\u001b[0m\u001b[0m\n\u001b[0m\u001b[0;32m    422\u001b[0m \u001b[1;33m\u001b[0m\u001b[0m\n\u001b[0;32m    423\u001b[0m \u001b[1;33m\u001b[0m\u001b[0m\n",
      "\u001b[1;32m~\\anaconda3\\lib\\site-packages\\xlwings\\_xlwindows.py\u001b[0m in \u001b[0;36m__call__\u001b[1;34m(self, *args, **kwargs)\u001b[0m\n\u001b[0;32m     64\u001b[0m         \u001b[1;32mwhile\u001b[0m \u001b[1;32mTrue\u001b[0m\u001b[1;33m:\u001b[0m\u001b[1;33m\u001b[0m\u001b[1;33m\u001b[0m\u001b[0m\n\u001b[0;32m     65\u001b[0m             \u001b[1;32mtry\u001b[0m\u001b[1;33m:\u001b[0m\u001b[1;33m\u001b[0m\u001b[1;33m\u001b[0m\u001b[0m\n\u001b[1;32m---> 66\u001b[1;33m                 \u001b[0mv\u001b[0m \u001b[1;33m=\u001b[0m \u001b[0mself\u001b[0m\u001b[1;33m.\u001b[0m\u001b[0m__method\u001b[0m\u001b[1;33m(\u001b[0m\u001b[1;33m*\u001b[0m\u001b[0margs\u001b[0m\u001b[1;33m,\u001b[0m \u001b[1;33m**\u001b[0m\u001b[0mkwargs\u001b[0m\u001b[1;33m)\u001b[0m\u001b[1;33m\u001b[0m\u001b[1;33m\u001b[0m\u001b[0m\n\u001b[0m\u001b[0;32m     67\u001b[0m                 \u001b[0mt\u001b[0m \u001b[1;33m=\u001b[0m \u001b[0mtype\u001b[0m\u001b[1;33m(\u001b[0m\u001b[0mv\u001b[0m\u001b[1;33m)\u001b[0m\u001b[1;33m\u001b[0m\u001b[1;33m\u001b[0m\u001b[0m\n\u001b[0;32m     68\u001b[0m                 \u001b[1;32mif\u001b[0m \u001b[0mt\u001b[0m \u001b[1;32mis\u001b[0m \u001b[0mCDispatch\u001b[0m\u001b[1;33m:\u001b[0m\u001b[1;33m\u001b[0m\u001b[1;33m\u001b[0m\u001b[0m\n",
      "\u001b[1;32m~\\anaconda3\\lib\\site-packages\\win32com\\client\\dynamic.py\u001b[0m in \u001b[0;36mRun\u001b[1;34m(self, Macro, Arg1, Arg2, Arg3, Arg4, Arg5, Arg6, Arg7, Arg8, Arg9, Arg10, Arg11, Arg12, Arg13, Arg14, Arg15, Arg16, Arg17, Arg18, Arg19, Arg20, Arg21, Arg22, Arg23, Arg24, Arg25, Arg26, Arg27, Arg28, Arg29, Arg30)\u001b[0m\n",
      "\u001b[1;32m~\\anaconda3\\lib\\site-packages\\win32com\\client\\dynamic.py\u001b[0m in \u001b[0;36m_ApplyTypes_\u001b[1;34m(self, dispid, wFlags, retType, argTypes, user, resultCLSID, *args)\u001b[0m\n\u001b[0;32m    285\u001b[0m \u001b[1;33m\u001b[0m\u001b[0m\n\u001b[0;32m    286\u001b[0m         \u001b[1;32mdef\u001b[0m \u001b[0m_ApplyTypes_\u001b[0m\u001b[1;33m(\u001b[0m\u001b[0mself\u001b[0m\u001b[1;33m,\u001b[0m \u001b[0mdispid\u001b[0m\u001b[1;33m,\u001b[0m \u001b[0mwFlags\u001b[0m\u001b[1;33m,\u001b[0m \u001b[0mretType\u001b[0m\u001b[1;33m,\u001b[0m \u001b[0margTypes\u001b[0m\u001b[1;33m,\u001b[0m \u001b[0muser\u001b[0m\u001b[1;33m,\u001b[0m \u001b[0mresultCLSID\u001b[0m\u001b[1;33m,\u001b[0m \u001b[1;33m*\u001b[0m\u001b[0margs\u001b[0m\u001b[1;33m)\u001b[0m\u001b[1;33m:\u001b[0m\u001b[1;33m\u001b[0m\u001b[1;33m\u001b[0m\u001b[0m\n\u001b[1;32m--> 287\u001b[1;33m                 \u001b[0mresult\u001b[0m \u001b[1;33m=\u001b[0m \u001b[0mself\u001b[0m\u001b[1;33m.\u001b[0m\u001b[0m_oleobj_\u001b[0m\u001b[1;33m.\u001b[0m\u001b[0mInvokeTypes\u001b[0m\u001b[1;33m(\u001b[0m\u001b[1;33m*\u001b[0m\u001b[1;33m(\u001b[0m\u001b[0mdispid\u001b[0m\u001b[1;33m,\u001b[0m \u001b[0mLCID\u001b[0m\u001b[1;33m,\u001b[0m \u001b[0mwFlags\u001b[0m\u001b[1;33m,\u001b[0m \u001b[0mretType\u001b[0m\u001b[1;33m,\u001b[0m \u001b[0margTypes\u001b[0m\u001b[1;33m)\u001b[0m \u001b[1;33m+\u001b[0m \u001b[0margs\u001b[0m\u001b[1;33m)\u001b[0m\u001b[1;33m\u001b[0m\u001b[1;33m\u001b[0m\u001b[0m\n\u001b[0m\u001b[0;32m    288\u001b[0m                 \u001b[1;32mreturn\u001b[0m \u001b[0mself\u001b[0m\u001b[1;33m.\u001b[0m\u001b[0m_get_good_object_\u001b[0m\u001b[1;33m(\u001b[0m\u001b[0mresult\u001b[0m\u001b[1;33m,\u001b[0m \u001b[0muser\u001b[0m\u001b[1;33m,\u001b[0m \u001b[0mresultCLSID\u001b[0m\u001b[1;33m)\u001b[0m\u001b[1;33m\u001b[0m\u001b[1;33m\u001b[0m\u001b[0m\n\u001b[0;32m    289\u001b[0m \u001b[1;33m\u001b[0m\u001b[0m\n",
      "\u001b[1;31mcom_error\u001b[0m: (-2147352567, 'Ошибка.', (0, None, None, None, 0, -2146788248), None)"
     ]
    }
   ],
   "source": [
    "q_0 = 5\n",
    "q_n = 100\n",
    "dq = 10 \n",
    "q_arr = np.arange(q_0, q_n, dq) #\n",
    "pvt_str = u7_excel.u7_Excel_function_servise.PVT_encode_string(0.8, 0.86, 1.1, 80, 80, 125, 100, 1.2, 1,PVTcorr,Ksep_,Psep_,Tsep, gas_only)\n",
    "str = UniflocVBA.PVT_encode_string(0.8, 0.86, 1.1, 80, 80, 125, 100, 1.2, 1,PVTcorr,Ksep_,Psep_,Tsep, gas_only)\n",
    "choke_list, choke_dll_list = [], []\n",
    "for q in q_arr:\n",
    "    choke = UniflocVBA.MF_calibr_choke_fast(qliq_sm3day=q, fw_perc=20, d_choke_mm=15, p_in_atma=60, p_out_atma=50, str_PVT=str)\n",
    "    choke_list.append(choke[0][0])\n",
    "    test_choke = u7_excel.u7_Excel_functions_MF.MF_calibr_choke_fast(qliq_sm3day=q, fw_perc=20, d_choke_mm=15, p_in_atma=60, p_out_atma=50, str_PVT=pvt_str)\n",
    "    choke_dll_list.append(test_choke[0])"
   ]
  },
  {
   "cell_type": "markdown",
   "metadata": {},
   "source": [
    "Объемные коэффициенты газа"
   ]
  },
  {
   "cell_type": "code",
   "execution_count": null,
   "metadata": {},
   "outputs": [],
   "source": [
    "mpl.rcParams['font.family'] = 'fantasy'\n",
    "mpl.rcParams['font.fantasy'] = 'Times New Roman'\n",
    "\n",
    "ys = [pb_list, pb_list_choke, z_list, z_list_choke, rs_list, rs_list_choke]\n",
    "titles = ['Давление насыщения','z - фактор',  'Газосодержание']\n",
    "ylabels = ['Pb, бар', 'z' , 'Rs, м3/м3']\n",
    "k = 0\n",
    "for i in range(3):\n",
    "    for j in range(2):\n",
    "        plt.grid(True)\n",
    "        plt.title(titles[i], color='black', family='fantasy')\n",
    "        plt.ylabel(ylabels[i], color='black', family='fantasy')\n",
    "        plt.xlabel('Давление, атм', color='black', family='fantasy')\n",
    "        plt.plot(p_atm, ys[k], linewidth=3)  \n",
    "        k += 1\n",
    "    plt.legend(('VBA','VB.net')) \n",
    "    plt.show()"
   ]
  },
  {
   "cell_type": "code",
   "execution_count": null,
   "metadata": {},
   "outputs": [],
   "source": [
    "ys = [bo_list, bo_list_choke, bg_list, bg_list_choke, bw_list, bw_list_choke]\n",
    "titles = ['Объемный коэффициент нефти','Объемный коэффициент газа', 'Объемный коэффициент воды']\n",
    "ylabels = ['bo, м3/м3', 'bg, м3/м3' , 'bw, м3/м3']\n",
    "k = 0\n",
    "for i in range(3):\n",
    "    for j in range(2):\n",
    "        plt.grid(True)\n",
    "        plt.title(titles[i], color='black', family='fantasy')\n",
    "        plt.ylabel(ylabels[i], color='black', family='fantasy')\n",
    "        plt.xlabel('Давление, атм', color='black', family='fantasy')\n",
    "        plt.plot(p_atm, ys[k], linewidth=3)  \n",
    "        k += 1\n",
    "    plt.legend(('VBA','VB.net')) \n",
    "    plt.show()"
   ]
  },
  {
   "cell_type": "code",
   "execution_count": null,
   "metadata": {},
   "outputs": [],
   "source": [
    "ys = [mu_oil_list, mu_oil_list_choke, mu_gas_list, mu_gas_list_choke, mu_wat_list, mu_wat_list_choke]\n",
    "titles = ['Вязкость нефти','Вязкость газа', 'Вязкость воды']\n",
    "ylabels = ['Mu_oil, сП', 'Mu_gas, сП' , 'Mu_wat, сП']\n",
    "k = 0\n",
    "for i in range(3):\n",
    "    for j in range(2):\n",
    "        plt.grid(True)\n",
    "        plt.title(titles[i], color='black', family='fantasy')\n",
    "        plt.ylabel(ylabels[i], color='black', family='fantasy')\n",
    "        plt.xlabel('Давление, атм', color='black', family='fantasy')\n",
    "        plt.plot(p_atm, ys[k], linewidth=3)  \n",
    "        k += 1\n",
    "    plt.legend(('VBA','VB.net')) \n",
    "    plt.show()"
   ]
  },
  {
   "cell_type": "code",
   "execution_count": null,
   "metadata": {},
   "outputs": [],
   "source": [
    "ys = [rho_oil_list, rho_oil_list_choke, rho_gas_list, rho_gas_list_choke, rho_wat_list, rho_wat_list_choke]\n",
    "titles = ['Плотность нефти','Плотность газа',  'Плотность воды']\n",
    "ylabels = ['rho_oil, кг/м3', 'rho_gas, кг/м3' , 'rho_wat, кг/м3']\n",
    "k = 0\n",
    "for i in range(3):\n",
    "    for j in range(2):\n",
    "        plt.grid(True)\n",
    "        plt.title(titles[i], color='black', family='fantasy')\n",
    "        plt.ylabel(ylabels[i], color='black', family='fantasy')\n",
    "        plt.xlabel('Давление, атм', color='black', family='fantasy')\n",
    "        plt.plot(p_atm, ys[k], linewidth=3)  \n",
    "        k += 1\n",
    "    plt.legend(('VBA','VB.net')) \n",
    "    plt.show()"
   ]
  },
  {
   "cell_type": "code",
   "execution_count": null,
   "metadata": {},
   "outputs": [],
   "source": [
    "ys = [compr_oil_list, compr_oil_list_choke, compr_gas_list, compr_gas_list_choke, compr_wat_list, compr_wat_list_choke]\n",
    "titles = ['Сжимаемость нефти','Сжимаемость газа',  'Сжимаемость воды']\n",
    "ylabels = ['$c_o, 1/атм$', '$c_g, 1/атм$' , '$c_w, 1/атм$']\n",
    "k = 0\n",
    "for i in range(3):\n",
    "    for j in range(2):\n",
    "        plt.grid(True)\n",
    "        plt.title(titles[i], color='black', family='fantasy')\n",
    "        plt.ylabel(ylabels[i], color='black', family='fantasy')\n",
    "        plt.xlabel('Давление, атм', color='black', family='fantasy')\n",
    "        plt.plot(p_atm, ys[k], linewidth=3)  \n",
    "        k += 1\n",
    "    plt.legend(('VBA','VB.net')) \n",
    "    plt.show()"
   ]
  },
  {
   "cell_type": "code",
   "execution_count": null,
   "metadata": {},
   "outputs": [],
   "source": [
    "ys = [ST_og_list, ST_og_list_choke, ST_wg_list, ST_wg_list_choke]\n",
    "titles = ['нефть-газ','вода-газ']\n",
    "k = 0\n",
    "for i in range(2):\n",
    "    for j in range(2):\n",
    "        plt.grid(True)\n",
    "        plt.title(titles[i], color='black', family='fantasy')\n",
    "        plt.ylabel('ST', color='black', family='fantasy')\n",
    "        plt.xlabel('Давление, атм', color='black', family='fantasy')\n",
    "        plt.plot(p_atm, ys[k], linewidth=3)  \n",
    "        k += 1\n",
    "    plt.legend(('VBA','VB.net')) \n",
    "    plt.show()"
   ]
  },
  {
   "cell_type": "code",
   "execution_count": null,
   "metadata": {},
   "outputs": [],
   "source": [
    "ys = [cpo_list, cpo_list_choke, cpg_list, cpg_list_choke, cpw_list, cpw_list_choke]\n",
    "titles = ['нефть','газ', 'вода']\n",
    "k = 0\n",
    "for i in range(3):\n",
    "    for j in range(2):\n",
    "        plt.grid(True)\n",
    "        plt.title(titles[i], color='black', family='fantasy')\n",
    "        plt.ylabel('Теплоемкость, Дж/кг/С', color='black', family='fantasy')\n",
    "        plt.xlabel('Давление, атм', color='black', family='fantasy')\n",
    "        plt.plot(p_atm, ys[k], linewidth=3)  \n",
    "        k += 1\n",
    "    plt.legend(('VBA','VB.net')) \n",
    "    plt.show()"
   ]
  },
  {
   "cell_type": "markdown",
   "metadata": {},
   "source": [
    "расчет корректирующего фактора (множителя) модели штуцера"
   ]
  },
  {
   "cell_type": "code",
   "execution_count": null,
   "metadata": {},
   "outputs": [],
   "source": [
    "print(choke_list)\n",
    "print(choke_dll_list)"
   ]
  },
  {
   "cell_type": "code",
   "execution_count": null,
   "metadata": {},
   "outputs": [],
   "source": [
    "ys = [choke_list, choke_dll_list]\n",
    "for i in range(2):\n",
    "    plt.grid(True)\n",
    "    plt.title('Корректирующий фактор', color='black', family='fantasy')\n",
    "    plt.ylabel(' ', color='black', family='fantasy')\n",
    "    plt.xlabel('qliq_sm3day', color='black', family='fantasy')\n",
    "    plt.plot(q_arr, ys[i], linewidth=3)\n",
    "plt.legend(('VBA','VB.net')) \n",
    "plt.show()"
   ]
  },
  {
   "cell_type": "code",
   "execution_count": null,
   "metadata": {},
   "outputs": [],
   "source": []
  }
 ],
 "metadata": {
  "kernelspec": {
   "display_name": "Python 3",
   "language": "python",
   "name": "python3"
  },
  "language_info": {
   "codemirror_mode": {
    "name": "ipython",
    "version": 3
   },
   "file_extension": ".py",
   "mimetype": "text/x-python",
   "name": "python",
   "nbconvert_exporter": "python",
   "pygments_lexer": "ipython3",
   "version": "3.8.3"
  }
 },
 "nbformat": 4,
 "nbformat_minor": 4
}
