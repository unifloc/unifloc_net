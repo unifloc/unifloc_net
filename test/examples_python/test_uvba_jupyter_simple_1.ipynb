{
 "cells": [
  {
   "cell_type": "markdown",
   "metadata": {},
   "source": [
    "# Простой пример работы с python API для unifloc VBA\n",
    "\n",
    "Пример показывает, как можно использовать расчетные пользовательские функциии unifloc VBA для расчетов с использованием python API и jupyter "
   ]
  },
  {
   "cell_type": "code",
   "execution_count": 1,
   "metadata": {},
   "outputs": [
    {
     "name": "stdout",
     "output_type": "stream",
     "text": [
      "import excel with unifloc vba done. version 7.24\n"
     ]
    }
   ],
   "source": [
    "# подготовимся к импорту API который находится в родительской папке относительно этой тетрадки\n",
    "import sys\n",
    "sys.path.insert(0,'..')\n",
    "# импортируем api\n",
    "import unifloc_vba_python_api.python_api as python_api \n",
    "# готовим объект с доступом к надстройке. При этом надстройка откроется и запустится excel \n",
    "UniflocVBA = python_api.API(\"../UniflocVBA_7.xlam\")\n",
    "print(\"import excel with unifloc vba done. version \" + UniflocVBA.unf_version())"
   ]
  },
  {
   "cell_type": "code",
   "execution_count": 2,
   "metadata": {},
   "outputs": [],
   "source": [
    "import matplotlib.pyplot as plt\n",
    "%matplotlib inline"
   ]
  },
  {
   "cell_type": "markdown",
   "metadata": {},
   "source": [
    "   ## Пример работы с числовой функцией \n",
    "   \n",
    "   Если функция VBA с которой надо работать на вход принимает числа и возвращает числа - то все просто. Можно передать ей значения float и также же значение функция вернет."
   ]
  },
  {
   "cell_type": "code",
   "execution_count": 3,
   "metadata": {},
   "outputs": [
    {
     "data": {
      "text/plain": [
       "[<matplotlib.lines.Line2D at 0x2ca5ceee390>]"
      ]
     },
     "execution_count": 3,
     "metadata": {},
     "output_type": "execute_result"
    },
    {
     "data": {
      "image/png": "[encoded data removed]",
      "text/plain": [
       "<Figure size 432x288 with 1 Axes>"
      ]
     },
     "metadata": {
      "needs_background": "light"
     },
     "output_type": "display_data"
    }
   ],
   "source": [
    "p_list = range(1,250,5)\n",
    "rs_list = []\n",
    "for p in p_list:\n",
    "    rs = UniflocVBA.PVT_rs_m3m3(p ,20)\n",
    "    rs_list.append(rs)\n",
    "plt.plot(p_list, rs_list)"
   ]
  },
  {
   "cell_type": "code",
   "execution_count": 4,
   "metadata": {},
   "outputs": [
    {
     "name": "stdout",
     "output_type": "stream",
     "text": [
      "Help on method PVT_rs_m3m3 in module unifloc_vba_python_api.python_api:\n",
      "\n",
      "PVT_rs_m3m3(p_atma, t_C, gamma_gas=0.6, gamma_oil=0.86, gamma_wat=1, rsb_m3m3=100, rp_m3m3=-1, pb_atma=-1, tres_C=90, bob_m3m3=-1, muob_cP=-1, PVTcorr=0, ksep_fr=0, p_ksep_atma=-1, t_ksep_C=-1, str_PVT='') method of unifloc_vba_python_api.python_api.API instance\n",
      "    ========== description ============== \n",
      "    расчет газосодержания \n",
      "           \n",
      "    ==========  arguments  ============== \n",
      "    \n",
      "        p_atma - давление, атм    \n",
      "    \n",
      "        t_c - температура, с.    \n",
      "    \n",
      "        gamma_gas - удельная плотность газа, по воздуху.  const_gg_ = 0.6    \n",
      "    \n",
      "        gamma_oil - удельная плотность нефти, по воде.  const_go_ = 0.86    \n",
      "    \n",
      "        gamma_wat - удельная плотность воды, по воде.  const_gw_ = 1    \n",
      "    \n",
      "        rsb_m3m3 - газосодержание при давлении насыщения, м3/м3.  const_rsb_default = 100    \n",
      "    \n",
      "        rp_m3m3 - замерной газовый фактор, м3/м3.  имеет приоритет перед rsb если rp < rsb    \n",
      "    \n",
      "        pb_atma - давление насыщения при температуре пласта, атма.  опциональный калибровочный параметр,  если не задан или = 0 то рассчитается по корреляции    \n",
      "    \n",
      "        tres_c - пластовая температура, с.  учитывается при расчете давления насыщения.  const_tres_default = 90    \n",
      "    \n",
      "        bob_m3m3 - объемный коэффициент нефти, м3/м3.    \n",
      "    \n",
      "        muob_cp - вязкость нефти при давлении насыщения  по умолчанию рассчитывается по корреляции    \n",
      "    \n",
      "        pvtcorr - номер набора pvt корреляций для расчета:  standing_based = 0 - на основе кор-ии стендинга  mccain_based = 1 - на основе кор-ии маккейна  straigth_line = 2 - на основ..см.мануал   \n",
      "    \n",
      "        ksep_fr - коэффициент сепарации - определяет изменение свойств  нефти после сепарации доли свободного газа.  изменение свойств нефти зависит от условий  сепарации газа, которы..см.мануал   \n",
      "    \n",
      "        p_ksep_atma - давление при которой была сепарация    \n",
      "    \n",
      "        t_ksep_c - температура при которой была сепарация    \n",
      "    \n",
      "        str_pvt - закодированная строка с параметрами pvt.  если задана - перекрывает другие значения\n",
      "\n"
     ]
    }
   ],
   "source": [
    "help(UniflocVBA.PVT_rs_m3m3)\n"
   ]
  },
  {
   "cell_type": "markdown",
   "metadata": {},
   "source": [
    "## Пример работы с функцией принимающей массивы и возвращающей массивы\n",
    "\n",
    "С использованием unifloc VBA python API можно также вызывать функции принимающие на вход массивы и возвращающие массивы. Для передачи массива достаточно передать список или кортеж. Результатом работы будет кортеж.\n",
    "\n",
    "Большинство функций unifloc VBA работающие с объектами range (считывающими данные с листа), также умеют работать и с массивами (хотя это и должно быть обеспечено специально)."
   ]
  },
  {
   "cell_type": "code",
   "execution_count": 5,
   "metadata": {},
   "outputs": [
    {
     "data": {
      "text/plain": [
       "((3.0,), (2.9,))"
      ]
     },
     "execution_count": 5,
     "metadata": {},
     "output_type": "execute_result"
    }
   ],
   "source": [
    "UniflocVBA.crv_interpolation([1,3,4,5],(4,2,2,4),[2,2.1])"
   ]
  },
  {
   "cell_type": "code",
   "execution_count": null,
   "metadata": {},
   "outputs": [],
   "source": []
  },
  {
   "cell_type": "code",
   "execution_count": null,
   "metadata": {},
   "outputs": [],
   "source": []
  }
 ],
 "metadata": {
  "kernelspec": {
   "display_name": "Python 3",
   "language": "python",
   "name": "python3"
  },
  "language_info": {
   "codemirror_mode": {
    "name": "ipython",
    "version": 3
   },
   "file_extension": ".py",
   "mimetype": "text/x-python",
   "name": "python",
   "nbconvert_exporter": "python",
   "pygments_lexer": "ipython3",
   "version": "3.6.10"
  }
 },
 "nbformat": 4,
 "nbformat_minor": 2
}
